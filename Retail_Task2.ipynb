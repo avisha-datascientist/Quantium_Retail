{
 "cells": [
  {
   "cell_type": "code",
   "execution_count": 1,
   "metadata": {},
   "outputs": [],
   "source": [
    "import numpy as np\n",
    "import pandas as pd\n",
    "import seaborn as sns\n",
    "import matplotlib.pyplot as plt\n",
    "import re as re\n",
    "import datetime\n",
    "from scipy.stats import pearsonr\n",
    "import scipy.stats as stats"
   ]
  },
  {
   "cell_type": "code",
   "execution_count": 82,
   "metadata": {},
   "outputs": [
    {
     "data": {
      "text/html": [
       "<div>\n",
       "<style scoped>\n",
       "    .dataframe tbody tr th:only-of-type {\n",
       "        vertical-align: middle;\n",
       "    }\n",
       "\n",
       "    .dataframe tbody tr th {\n",
       "        vertical-align: top;\n",
       "    }\n",
       "\n",
       "    .dataframe thead th {\n",
       "        text-align: right;\n",
       "    }\n",
       "</style>\n",
       "<table border=\"1\" class=\"dataframe\">\n",
       "  <thead>\n",
       "    <tr style=\"text-align: right;\">\n",
       "      <th></th>\n",
       "      <th>DATE</th>\n",
       "      <th>STORE_NBR</th>\n",
       "      <th>LYLTY_CARD_NBR</th>\n",
       "      <th>TXN_ID</th>\n",
       "      <th>PROD_NBR</th>\n",
       "      <th>PROD_QTY</th>\n",
       "      <th>TOT_SALES</th>\n",
       "      <th>PACK_SIZE</th>\n",
       "      <th>COMPANY_INITIALS</th>\n",
       "      <th>MIDAGE SINGLES/COUPLES</th>\n",
       "      <th>NEW FAMILIES</th>\n",
       "      <th>OLDER FAMILIES</th>\n",
       "      <th>OLDER SINGLES/COUPLES</th>\n",
       "      <th>RETIREES</th>\n",
       "      <th>YOUNG FAMILIES</th>\n",
       "      <th>YOUNG SINGLES/COUPLES</th>\n",
       "      <th>Budget</th>\n",
       "      <th>Mainstream</th>\n",
       "      <th>Premium</th>\n",
       "    </tr>\n",
       "  </thead>\n",
       "  <tbody>\n",
       "    <tr>\n",
       "      <th>0</th>\n",
       "      <td>2018-10-17</td>\n",
       "      <td>1</td>\n",
       "      <td>1000</td>\n",
       "      <td>1</td>\n",
       "      <td>5</td>\n",
       "      <td>2</td>\n",
       "      <td>6.0</td>\n",
       "      <td>175</td>\n",
       "      <td>12</td>\n",
       "      <td>0</td>\n",
       "      <td>0</td>\n",
       "      <td>0</td>\n",
       "      <td>0</td>\n",
       "      <td>0</td>\n",
       "      <td>0</td>\n",
       "      <td>1</td>\n",
       "      <td>0</td>\n",
       "      <td>0</td>\n",
       "      <td>1</td>\n",
       "    </tr>\n",
       "    <tr>\n",
       "      <th>1</th>\n",
       "      <td>2019-05-14</td>\n",
       "      <td>1</td>\n",
       "      <td>1307</td>\n",
       "      <td>348</td>\n",
       "      <td>66</td>\n",
       "      <td>3</td>\n",
       "      <td>6.3</td>\n",
       "      <td>175</td>\n",
       "      <td>15</td>\n",
       "      <td>1</td>\n",
       "      <td>0</td>\n",
       "      <td>0</td>\n",
       "      <td>0</td>\n",
       "      <td>0</td>\n",
       "      <td>0</td>\n",
       "      <td>0</td>\n",
       "      <td>1</td>\n",
       "      <td>0</td>\n",
       "      <td>0</td>\n",
       "    </tr>\n",
       "    <tr>\n",
       "      <th>2</th>\n",
       "      <td>2019-05-20</td>\n",
       "      <td>1</td>\n",
       "      <td>1343</td>\n",
       "      <td>383</td>\n",
       "      <td>61</td>\n",
       "      <td>2</td>\n",
       "      <td>2.9</td>\n",
       "      <td>170</td>\n",
       "      <td>1</td>\n",
       "      <td>1</td>\n",
       "      <td>0</td>\n",
       "      <td>0</td>\n",
       "      <td>0</td>\n",
       "      <td>0</td>\n",
       "      <td>0</td>\n",
       "      <td>0</td>\n",
       "      <td>1</td>\n",
       "      <td>0</td>\n",
       "      <td>0</td>\n",
       "    </tr>\n",
       "    <tr>\n",
       "      <th>3</th>\n",
       "      <td>2018-08-17</td>\n",
       "      <td>2</td>\n",
       "      <td>2373</td>\n",
       "      <td>974</td>\n",
       "      <td>69</td>\n",
       "      <td>5</td>\n",
       "      <td>15.0</td>\n",
       "      <td>175</td>\n",
       "      <td>1</td>\n",
       "      <td>1</td>\n",
       "      <td>0</td>\n",
       "      <td>0</td>\n",
       "      <td>0</td>\n",
       "      <td>0</td>\n",
       "      <td>0</td>\n",
       "      <td>0</td>\n",
       "      <td>1</td>\n",
       "      <td>0</td>\n",
       "      <td>0</td>\n",
       "    </tr>\n",
       "    <tr>\n",
       "      <th>4</th>\n",
       "      <td>2018-08-18</td>\n",
       "      <td>2</td>\n",
       "      <td>2426</td>\n",
       "      <td>1038</td>\n",
       "      <td>108</td>\n",
       "      <td>3</td>\n",
       "      <td>13.8</td>\n",
       "      <td>150</td>\n",
       "      <td>0</td>\n",
       "      <td>1</td>\n",
       "      <td>0</td>\n",
       "      <td>0</td>\n",
       "      <td>0</td>\n",
       "      <td>0</td>\n",
       "      <td>0</td>\n",
       "      <td>0</td>\n",
       "      <td>1</td>\n",
       "      <td>0</td>\n",
       "      <td>0</td>\n",
       "    </tr>\n",
       "  </tbody>\n",
       "</table>\n",
       "</div>"
      ],
      "text/plain": [
       "         DATE  STORE_NBR  LYLTY_CARD_NBR  TXN_ID  PROD_NBR  PROD_QTY  \\\n",
       "0  2018-10-17          1            1000       1         5         2   \n",
       "1  2019-05-14          1            1307     348        66         3   \n",
       "2  2019-05-20          1            1343     383        61         2   \n",
       "3  2018-08-17          2            2373     974        69         5   \n",
       "4  2018-08-18          2            2426    1038       108         3   \n",
       "\n",
       "   TOT_SALES  PACK_SIZE  COMPANY_INITIALS  MIDAGE SINGLES/COUPLES  \\\n",
       "0        6.0        175                12                       0   \n",
       "1        6.3        175                15                       1   \n",
       "2        2.9        170                 1                       1   \n",
       "3       15.0        175                 1                       1   \n",
       "4       13.8        150                 0                       1   \n",
       "\n",
       "   NEW FAMILIES  OLDER FAMILIES  OLDER SINGLES/COUPLES  RETIREES  \\\n",
       "0             0               0                      0         0   \n",
       "1             0               0                      0         0   \n",
       "2             0               0                      0         0   \n",
       "3             0               0                      0         0   \n",
       "4             0               0                      0         0   \n",
       "\n",
       "   YOUNG FAMILIES  YOUNG SINGLES/COUPLES  Budget  Mainstream  Premium  \n",
       "0               0                      1       0           0        1  \n",
       "1               0                      0       1           0        0  \n",
       "2               0                      0       1           0        0  \n",
       "3               0                      0       1           0        0  \n",
       "4               0                      0       1           0        0  "
      ]
     },
     "execution_count": 82,
     "metadata": {},
     "output_type": "execute_result"
    }
   ],
   "source": [
    "customer_df = pd.read_csv('RetailTask1.csv')\n",
    "customer_df.head()"
   ]
  },
  {
   "cell_type": "code",
   "execution_count": null,
   "metadata": {},
   "outputs": [],
   "source": [
    "#data = customer_df.copy()\n",
    "#data['MONTH_YEAR'] = data['DATE'].dt.to_period('M')"
   ]
  },
  {
   "cell_type": "code",
   "execution_count": 83,
   "metadata": {},
   "outputs": [],
   "source": [
    "customer_df['DATE'] = customer_df['DATE'].apply(lambda x: datetime.datetime.strptime(x,'%Y-%m-%d'))\n",
    "customer_df['MONTH_YEAR'] = customer_df['DATE'].dt.strftime('%Y-%m')"
   ]
  },
  {
   "cell_type": "code",
   "execution_count": 84,
   "metadata": {},
   "outputs": [
    {
     "data": {
      "text/html": [
       "<div>\n",
       "<style scoped>\n",
       "    .dataframe tbody tr th:only-of-type {\n",
       "        vertical-align: middle;\n",
       "    }\n",
       "\n",
       "    .dataframe tbody tr th {\n",
       "        vertical-align: top;\n",
       "    }\n",
       "\n",
       "    .dataframe thead th {\n",
       "        text-align: right;\n",
       "    }\n",
       "</style>\n",
       "<table border=\"1\" class=\"dataframe\">\n",
       "  <thead>\n",
       "    <tr style=\"text-align: right;\">\n",
       "      <th></th>\n",
       "      <th>DATE</th>\n",
       "      <th>STORE_NBR</th>\n",
       "      <th>LYLTY_CARD_NBR</th>\n",
       "      <th>TXN_ID</th>\n",
       "      <th>PROD_NBR</th>\n",
       "      <th>PROD_QTY</th>\n",
       "      <th>TOT_SALES</th>\n",
       "      <th>PACK_SIZE</th>\n",
       "      <th>COMPANY_INITIALS</th>\n",
       "      <th>MIDAGE SINGLES/COUPLES</th>\n",
       "      <th>NEW FAMILIES</th>\n",
       "      <th>OLDER FAMILIES</th>\n",
       "      <th>OLDER SINGLES/COUPLES</th>\n",
       "      <th>RETIREES</th>\n",
       "      <th>YOUNG FAMILIES</th>\n",
       "      <th>YOUNG SINGLES/COUPLES</th>\n",
       "      <th>Budget</th>\n",
       "      <th>Mainstream</th>\n",
       "      <th>Premium</th>\n",
       "      <th>MONTH_YEAR</th>\n",
       "    </tr>\n",
       "  </thead>\n",
       "  <tbody>\n",
       "    <tr>\n",
       "      <th>0</th>\n",
       "      <td>2018-10-17</td>\n",
       "      <td>1</td>\n",
       "      <td>1000</td>\n",
       "      <td>1</td>\n",
       "      <td>5</td>\n",
       "      <td>2</td>\n",
       "      <td>6.0</td>\n",
       "      <td>175</td>\n",
       "      <td>12</td>\n",
       "      <td>0</td>\n",
       "      <td>0</td>\n",
       "      <td>0</td>\n",
       "      <td>0</td>\n",
       "      <td>0</td>\n",
       "      <td>0</td>\n",
       "      <td>1</td>\n",
       "      <td>0</td>\n",
       "      <td>0</td>\n",
       "      <td>1</td>\n",
       "      <td>2018-10</td>\n",
       "    </tr>\n",
       "    <tr>\n",
       "      <th>1</th>\n",
       "      <td>2019-05-14</td>\n",
       "      <td>1</td>\n",
       "      <td>1307</td>\n",
       "      <td>348</td>\n",
       "      <td>66</td>\n",
       "      <td>3</td>\n",
       "      <td>6.3</td>\n",
       "      <td>175</td>\n",
       "      <td>15</td>\n",
       "      <td>1</td>\n",
       "      <td>0</td>\n",
       "      <td>0</td>\n",
       "      <td>0</td>\n",
       "      <td>0</td>\n",
       "      <td>0</td>\n",
       "      <td>0</td>\n",
       "      <td>1</td>\n",
       "      <td>0</td>\n",
       "      <td>0</td>\n",
       "      <td>2019-05</td>\n",
       "    </tr>\n",
       "    <tr>\n",
       "      <th>2</th>\n",
       "      <td>2019-05-20</td>\n",
       "      <td>1</td>\n",
       "      <td>1343</td>\n",
       "      <td>383</td>\n",
       "      <td>61</td>\n",
       "      <td>2</td>\n",
       "      <td>2.9</td>\n",
       "      <td>170</td>\n",
       "      <td>1</td>\n",
       "      <td>1</td>\n",
       "      <td>0</td>\n",
       "      <td>0</td>\n",
       "      <td>0</td>\n",
       "      <td>0</td>\n",
       "      <td>0</td>\n",
       "      <td>0</td>\n",
       "      <td>1</td>\n",
       "      <td>0</td>\n",
       "      <td>0</td>\n",
       "      <td>2019-05</td>\n",
       "    </tr>\n",
       "    <tr>\n",
       "      <th>3</th>\n",
       "      <td>2018-08-17</td>\n",
       "      <td>2</td>\n",
       "      <td>2373</td>\n",
       "      <td>974</td>\n",
       "      <td>69</td>\n",
       "      <td>5</td>\n",
       "      <td>15.0</td>\n",
       "      <td>175</td>\n",
       "      <td>1</td>\n",
       "      <td>1</td>\n",
       "      <td>0</td>\n",
       "      <td>0</td>\n",
       "      <td>0</td>\n",
       "      <td>0</td>\n",
       "      <td>0</td>\n",
       "      <td>0</td>\n",
       "      <td>1</td>\n",
       "      <td>0</td>\n",
       "      <td>0</td>\n",
       "      <td>2018-08</td>\n",
       "    </tr>\n",
       "    <tr>\n",
       "      <th>4</th>\n",
       "      <td>2018-08-18</td>\n",
       "      <td>2</td>\n",
       "      <td>2426</td>\n",
       "      <td>1038</td>\n",
       "      <td>108</td>\n",
       "      <td>3</td>\n",
       "      <td>13.8</td>\n",
       "      <td>150</td>\n",
       "      <td>0</td>\n",
       "      <td>1</td>\n",
       "      <td>0</td>\n",
       "      <td>0</td>\n",
       "      <td>0</td>\n",
       "      <td>0</td>\n",
       "      <td>0</td>\n",
       "      <td>0</td>\n",
       "      <td>1</td>\n",
       "      <td>0</td>\n",
       "      <td>0</td>\n",
       "      <td>2018-08</td>\n",
       "    </tr>\n",
       "    <tr>\n",
       "      <th>...</th>\n",
       "      <td>...</td>\n",
       "      <td>...</td>\n",
       "      <td>...</td>\n",
       "      <td>...</td>\n",
       "      <td>...</td>\n",
       "      <td>...</td>\n",
       "      <td>...</td>\n",
       "      <td>...</td>\n",
       "      <td>...</td>\n",
       "      <td>...</td>\n",
       "      <td>...</td>\n",
       "      <td>...</td>\n",
       "      <td>...</td>\n",
       "      <td>...</td>\n",
       "      <td>...</td>\n",
       "      <td>...</td>\n",
       "      <td>...</td>\n",
       "      <td>...</td>\n",
       "      <td>...</td>\n",
       "      <td>...</td>\n",
       "    </tr>\n",
       "    <tr>\n",
       "      <th>246136</th>\n",
       "      <td>2019-01-22</td>\n",
       "      <td>244</td>\n",
       "      <td>244438</td>\n",
       "      <td>247365</td>\n",
       "      <td>91</td>\n",
       "      <td>2</td>\n",
       "      <td>4.2</td>\n",
       "      <td>175</td>\n",
       "      <td>15</td>\n",
       "      <td>0</td>\n",
       "      <td>0</td>\n",
       "      <td>0</td>\n",
       "      <td>0</td>\n",
       "      <td>0</td>\n",
       "      <td>0</td>\n",
       "      <td>1</td>\n",
       "      <td>0</td>\n",
       "      <td>0</td>\n",
       "      <td>1</td>\n",
       "      <td>2019-01</td>\n",
       "    </tr>\n",
       "    <tr>\n",
       "      <th>246440</th>\n",
       "      <td>2019-04-30</td>\n",
       "      <td>258</td>\n",
       "      <td>258090</td>\n",
       "      <td>257356</td>\n",
       "      <td>12</td>\n",
       "      <td>2</td>\n",
       "      <td>6.0</td>\n",
       "      <td>175</td>\n",
       "      <td>12</td>\n",
       "      <td>0</td>\n",
       "      <td>0</td>\n",
       "      <td>0</td>\n",
       "      <td>0</td>\n",
       "      <td>0</td>\n",
       "      <td>0</td>\n",
       "      <td>1</td>\n",
       "      <td>0</td>\n",
       "      <td>0</td>\n",
       "      <td>1</td>\n",
       "      <td>2019-04</td>\n",
       "    </tr>\n",
       "    <tr>\n",
       "      <th>246536</th>\n",
       "      <td>2019-01-16</td>\n",
       "      <td>263</td>\n",
       "      <td>263262</td>\n",
       "      <td>262707</td>\n",
       "      <td>107</td>\n",
       "      <td>1</td>\n",
       "      <td>2.6</td>\n",
       "      <td>150</td>\n",
       "      <td>1</td>\n",
       "      <td>0</td>\n",
       "      <td>0</td>\n",
       "      <td>0</td>\n",
       "      <td>0</td>\n",
       "      <td>0</td>\n",
       "      <td>0</td>\n",
       "      <td>1</td>\n",
       "      <td>0</td>\n",
       "      <td>0</td>\n",
       "      <td>1</td>\n",
       "      <td>2019-01</td>\n",
       "    </tr>\n",
       "    <tr>\n",
       "      <th>246537</th>\n",
       "      <td>2019-06-18</td>\n",
       "      <td>263</td>\n",
       "      <td>263262</td>\n",
       "      <td>262708</td>\n",
       "      <td>14</td>\n",
       "      <td>2</td>\n",
       "      <td>11.8</td>\n",
       "      <td>380</td>\n",
       "      <td>1</td>\n",
       "      <td>0</td>\n",
       "      <td>0</td>\n",
       "      <td>0</td>\n",
       "      <td>0</td>\n",
       "      <td>0</td>\n",
       "      <td>0</td>\n",
       "      <td>1</td>\n",
       "      <td>0</td>\n",
       "      <td>0</td>\n",
       "      <td>1</td>\n",
       "      <td>2019-06</td>\n",
       "    </tr>\n",
       "    <tr>\n",
       "      <th>246640</th>\n",
       "      <td>2019-04-04</td>\n",
       "      <td>267</td>\n",
       "      <td>267345</td>\n",
       "      <td>264377</td>\n",
       "      <td>78</td>\n",
       "      <td>1</td>\n",
       "      <td>3.3</td>\n",
       "      <td>175</td>\n",
       "      <td>6</td>\n",
       "      <td>0</td>\n",
       "      <td>0</td>\n",
       "      <td>0</td>\n",
       "      <td>0</td>\n",
       "      <td>0</td>\n",
       "      <td>0</td>\n",
       "      <td>1</td>\n",
       "      <td>0</td>\n",
       "      <td>0</td>\n",
       "      <td>1</td>\n",
       "      <td>2019-04</td>\n",
       "    </tr>\n",
       "  </tbody>\n",
       "</table>\n",
       "<p>15506 rows × 20 columns</p>\n",
       "</div>"
      ],
      "text/plain": [
       "             DATE  STORE_NBR  LYLTY_CARD_NBR  TXN_ID  PROD_NBR  PROD_QTY  \\\n",
       "0      2018-10-17          1            1000       1         5         2   \n",
       "1      2019-05-14          1            1307     348        66         3   \n",
       "2      2019-05-20          1            1343     383        61         2   \n",
       "3      2018-08-17          2            2373     974        69         5   \n",
       "4      2018-08-18          2            2426    1038       108         3   \n",
       "...           ...        ...             ...     ...       ...       ...   \n",
       "246136 2019-01-22        244          244438  247365        91         2   \n",
       "246440 2019-04-30        258          258090  257356        12         2   \n",
       "246536 2019-01-16        263          263262  262707       107         1   \n",
       "246537 2019-06-18        263          263262  262708        14         2   \n",
       "246640 2019-04-04        267          267345  264377        78         1   \n",
       "\n",
       "        TOT_SALES  PACK_SIZE  COMPANY_INITIALS  MIDAGE SINGLES/COUPLES  \\\n",
       "0             6.0        175                12                       0   \n",
       "1             6.3        175                15                       1   \n",
       "2             2.9        170                 1                       1   \n",
       "3            15.0        175                 1                       1   \n",
       "4            13.8        150                 0                       1   \n",
       "...           ...        ...               ...                     ...   \n",
       "246136        4.2        175                15                       0   \n",
       "246440        6.0        175                12                       0   \n",
       "246536        2.6        150                 1                       0   \n",
       "246537       11.8        380                 1                       0   \n",
       "246640        3.3        175                 6                       0   \n",
       "\n",
       "        NEW FAMILIES  OLDER FAMILIES  OLDER SINGLES/COUPLES  RETIREES  \\\n",
       "0                  0               0                      0         0   \n",
       "1                  0               0                      0         0   \n",
       "2                  0               0                      0         0   \n",
       "3                  0               0                      0         0   \n",
       "4                  0               0                      0         0   \n",
       "...              ...             ...                    ...       ...   \n",
       "246136             0               0                      0         0   \n",
       "246440             0               0                      0         0   \n",
       "246536             0               0                      0         0   \n",
       "246537             0               0                      0         0   \n",
       "246640             0               0                      0         0   \n",
       "\n",
       "        YOUNG FAMILIES  YOUNG SINGLES/COUPLES  Budget  Mainstream  Premium  \\\n",
       "0                    0                      1       0           0        1   \n",
       "1                    0                      0       1           0        0   \n",
       "2                    0                      0       1           0        0   \n",
       "3                    0                      0       1           0        0   \n",
       "4                    0                      0       1           0        0   \n",
       "...                ...                    ...     ...         ...      ...   \n",
       "246136               0                      1       0           0        1   \n",
       "246440               0                      1       0           0        1   \n",
       "246536               0                      1       0           0        1   \n",
       "246537               0                      1       0           0        1   \n",
       "246640               0                      1       0           0        1   \n",
       "\n",
       "       MONTH_YEAR  \n",
       "0         2018-10  \n",
       "1         2019-05  \n",
       "2         2019-05  \n",
       "3         2018-08  \n",
       "4         2018-08  \n",
       "...           ...  \n",
       "246136    2019-01  \n",
       "246440    2019-04  \n",
       "246536    2019-01  \n",
       "246537    2019-06  \n",
       "246640    2019-04  \n",
       "\n",
       "[15506 rows x 20 columns]"
      ]
     },
     "execution_count": 84,
     "metadata": {},
     "output_type": "execute_result"
    }
   ],
   "source": [
    "group_month_store = customer_df.groupby(['STORE_NBR','MONTH_YEAR'],as_index=False)\n",
    "group_month_store.head()"
   ]
  },
  {
   "cell_type": "code",
   "execution_count": 85,
   "metadata": {},
   "outputs": [
    {
     "name": "stderr",
     "output_type": "stream",
     "text": [
      "C:\\Users\\DELL\\anaconda3\\lib\\site-packages\\ipykernel_launcher.py:1: FutureWarning: Indexing with multiple keys (implicitly converted to a tuple of keys) will be deprecated, use a list instead.\n",
      "  \"\"\"Entry point for launching an IPython kernel.\n"
     ]
    }
   ],
   "source": [
    "measure_over_month = group_month_store['STORE_NBR','MONTH_YEAR']"
   ]
  },
  {
   "cell_type": "code",
   "execution_count": 86,
   "metadata": {},
   "outputs": [],
   "source": [
    "measure_over_month = group_month_store['TOT_SALES'].sum()"
   ]
  },
  {
   "cell_type": "code",
   "execution_count": 87,
   "metadata": {},
   "outputs": [],
   "source": [
    "total_customers = []\n",
    "transactions_per_cust = []\n",
    "chips_per_transac = []\n",
    "price_per_unit = []\n",
    "for name, group in group_month_store:\n",
    "    total_customers.append(len(group['LYLTY_CARD_NBR'].unique()))\n",
    "    transactions_per_cust.append(len(group['TXN_ID'].unique())/len(group['LYLTY_CARD_NBR'].unique()))\n",
    "    chips_per_transac.append(group['PROD_QTY'].sum()/len(group['TXN_ID'].unique()))\n",
    "    price_per_unit.append(group['TOT_SALES'].sum()/group['PROD_QTY'].sum())\n",
    "measure_over_month['TOT_CUSTOMERS'] = total_customers\n",
    "measure_over_month['TRANSACTIONS_PER_CUST'] = transactions_per_cust\n",
    "measure_over_month['CHIPS_PER_TRANS'] = chips_per_transac\n",
    "measure_over_month['PRICE_PER_UNIT'] = price_per_unit"
   ]
  },
  {
   "cell_type": "code",
   "execution_count": 8,
   "metadata": {
    "scrolled": true
   },
   "outputs": [
    {
     "data": {
      "text/html": [
       "<div>\n",
       "<style scoped>\n",
       "    .dataframe tbody tr th:only-of-type {\n",
       "        vertical-align: middle;\n",
       "    }\n",
       "\n",
       "    .dataframe tbody tr th {\n",
       "        vertical-align: top;\n",
       "    }\n",
       "\n",
       "    .dataframe thead th {\n",
       "        text-align: right;\n",
       "    }\n",
       "</style>\n",
       "<table border=\"1\" class=\"dataframe\">\n",
       "  <thead>\n",
       "    <tr style=\"text-align: right;\">\n",
       "      <th></th>\n",
       "      <th>STORE_NBR</th>\n",
       "      <th>MONTH_YEAR</th>\n",
       "      <th>TOT_SALES</th>\n",
       "      <th>TOT_CUSTOMERS</th>\n",
       "      <th>TRANSACTIONS_PER_CUST</th>\n",
       "      <th>CHIPS_PER_TRANS</th>\n",
       "      <th>PRICE_PER_UNIT</th>\n",
       "    </tr>\n",
       "  </thead>\n",
       "  <tbody>\n",
       "    <tr>\n",
       "      <th>0</th>\n",
       "      <td>1</td>\n",
       "      <td>2018-07</td>\n",
       "      <td>186.6</td>\n",
       "      <td>46</td>\n",
       "      <td>1.043478</td>\n",
       "      <td>1.187500</td>\n",
       "      <td>3.273684</td>\n",
       "    </tr>\n",
       "    <tr>\n",
       "      <th>1</th>\n",
       "      <td>1</td>\n",
       "      <td>2018-08</td>\n",
       "      <td>166.1</td>\n",
       "      <td>40</td>\n",
       "      <td>1.000000</td>\n",
       "      <td>1.275000</td>\n",
       "      <td>3.256863</td>\n",
       "    </tr>\n",
       "    <tr>\n",
       "      <th>2</th>\n",
       "      <td>1</td>\n",
       "      <td>2018-09</td>\n",
       "      <td>252.9</td>\n",
       "      <td>54</td>\n",
       "      <td>1.037037</td>\n",
       "      <td>1.196429</td>\n",
       "      <td>3.774627</td>\n",
       "    </tr>\n",
       "    <tr>\n",
       "      <th>3</th>\n",
       "      <td>1</td>\n",
       "      <td>2018-10</td>\n",
       "      <td>175.4</td>\n",
       "      <td>39</td>\n",
       "      <td>1.025641</td>\n",
       "      <td>1.275000</td>\n",
       "      <td>3.439216</td>\n",
       "    </tr>\n",
       "    <tr>\n",
       "      <th>4</th>\n",
       "      <td>1</td>\n",
       "      <td>2018-11</td>\n",
       "      <td>182.5</td>\n",
       "      <td>43</td>\n",
       "      <td>1.023256</td>\n",
       "      <td>1.227273</td>\n",
       "      <td>3.379630</td>\n",
       "    </tr>\n",
       "  </tbody>\n",
       "</table>\n",
       "</div>"
      ],
      "text/plain": [
       "   STORE_NBR MONTH_YEAR  TOT_SALES  TOT_CUSTOMERS  TRANSACTIONS_PER_CUST  \\\n",
       "0          1    2018-07      186.6             46               1.043478   \n",
       "1          1    2018-08      166.1             40               1.000000   \n",
       "2          1    2018-09      252.9             54               1.037037   \n",
       "3          1    2018-10      175.4             39               1.025641   \n",
       "4          1    2018-11      182.5             43               1.023256   \n",
       "\n",
       "   CHIPS_PER_TRANS  PRICE_PER_UNIT  \n",
       "0         1.187500        3.273684  \n",
       "1         1.275000        3.256863  \n",
       "2         1.196429        3.774627  \n",
       "3         1.275000        3.439216  \n",
       "4         1.227273        3.379630  "
      ]
     },
     "execution_count": 8,
     "metadata": {},
     "output_type": "execute_result"
    }
   ],
   "source": [
    "measure_over_month.head()"
   ]
  },
  {
   "cell_type": "markdown",
   "metadata": {},
   "source": [
    "Filtering the above dataframe."
   ]
  },
  {
   "cell_type": "code",
   "execution_count": 88,
   "metadata": {},
   "outputs": [
    {
     "name": "stdout",
     "output_type": "stream",
     "text": [
      "259\n"
     ]
    },
    {
     "data": {
      "text/html": [
       "<div>\n",
       "<style scoped>\n",
       "    .dataframe tbody tr th:only-of-type {\n",
       "        vertical-align: middle;\n",
       "    }\n",
       "\n",
       "    .dataframe tbody tr th {\n",
       "        vertical-align: top;\n",
       "    }\n",
       "\n",
       "    .dataframe thead th {\n",
       "        text-align: right;\n",
       "    }\n",
       "</style>\n",
       "<table border=\"1\" class=\"dataframe\">\n",
       "  <thead>\n",
       "    <tr style=\"text-align: right;\">\n",
       "      <th></th>\n",
       "      <th>STORE_NBR</th>\n",
       "      <th>MONTH_YEAR</th>\n",
       "      <th>TOT_SALES</th>\n",
       "      <th>TOT_CUSTOMERS</th>\n",
       "      <th>TRANSACTIONS_PER_CUST</th>\n",
       "      <th>CHIPS_PER_TRANS</th>\n",
       "      <th>PRICE_PER_UNIT</th>\n",
       "    </tr>\n",
       "  </thead>\n",
       "  <tbody>\n",
       "    <tr>\n",
       "      <th>0</th>\n",
       "      <td>1</td>\n",
       "      <td>2018-07</td>\n",
       "      <td>188.9</td>\n",
       "      <td>47</td>\n",
       "      <td>1.042553</td>\n",
       "      <td>1.183673</td>\n",
       "      <td>3.256897</td>\n",
       "    </tr>\n",
       "    <tr>\n",
       "      <th>1</th>\n",
       "      <td>1</td>\n",
       "      <td>2018-08</td>\n",
       "      <td>168.4</td>\n",
       "      <td>41</td>\n",
       "      <td>1.000000</td>\n",
       "      <td>1.268293</td>\n",
       "      <td>3.238462</td>\n",
       "    </tr>\n",
       "    <tr>\n",
       "      <th>2</th>\n",
       "      <td>1</td>\n",
       "      <td>2018-09</td>\n",
       "      <td>268.1</td>\n",
       "      <td>57</td>\n",
       "      <td>1.035088</td>\n",
       "      <td>1.203390</td>\n",
       "      <td>3.776056</td>\n",
       "    </tr>\n",
       "    <tr>\n",
       "      <th>3</th>\n",
       "      <td>1</td>\n",
       "      <td>2018-10</td>\n",
       "      <td>175.4</td>\n",
       "      <td>39</td>\n",
       "      <td>1.025641</td>\n",
       "      <td>1.275000</td>\n",
       "      <td>3.439216</td>\n",
       "    </tr>\n",
       "    <tr>\n",
       "      <th>4</th>\n",
       "      <td>1</td>\n",
       "      <td>2018-11</td>\n",
       "      <td>184.8</td>\n",
       "      <td>44</td>\n",
       "      <td>1.022727</td>\n",
       "      <td>1.222222</td>\n",
       "      <td>3.360000</td>\n",
       "    </tr>\n",
       "  </tbody>\n",
       "</table>\n",
       "</div>"
      ],
      "text/plain": [
       "   STORE_NBR MONTH_YEAR  TOT_SALES  TOT_CUSTOMERS  TRANSACTIONS_PER_CUST  \\\n",
       "0          1    2018-07      188.9             47               1.042553   \n",
       "1          1    2018-08      168.4             41               1.000000   \n",
       "2          1    2018-09      268.1             57               1.035088   \n",
       "3          1    2018-10      175.4             39               1.025641   \n",
       "4          1    2018-11      184.8             44               1.022727   \n",
       "\n",
       "   CHIPS_PER_TRANS  PRICE_PER_UNIT  \n",
       "0         1.183673        3.256897  \n",
       "1         1.268293        3.238462  \n",
       "2         1.203390        3.776056  \n",
       "3         1.275000        3.439216  \n",
       "4         1.222222        3.360000  "
      ]
     },
     "execution_count": 88,
     "metadata": {},
     "output_type": "execute_result"
    }
   ],
   "source": [
    "stores = measure_over_month['STORE_NBR'].value_counts().to_dict()\n",
    "i=0\n",
    "stores_all_year = []\n",
    "\n",
    "for key,value in stores.items():\n",
    "    if value == 12:\n",
    "        stores_all_year.append(key)\n",
    "    i = i+1\n",
    "print(len(stores_all_year))\n",
    "stores_full_observations = measure_over_month[measure_over_month['STORE_NBR'].isin(stores_all_year)]\n",
    "stores_full_observations.head()"
   ]
  },
  {
   "cell_type": "code",
   "execution_count": 89,
   "metadata": {},
   "outputs": [],
   "source": [
    "pre_trial = stores_full_observations[stores_full_observations['MONTH_YEAR'] < '2019-02']"
   ]
  },
  {
   "cell_type": "code",
   "execution_count": 11,
   "metadata": {},
   "outputs": [
    {
     "data": {
      "text/html": [
       "<div>\n",
       "<style scoped>\n",
       "    .dataframe tbody tr th:only-of-type {\n",
       "        vertical-align: middle;\n",
       "    }\n",
       "\n",
       "    .dataframe tbody tr th {\n",
       "        vertical-align: top;\n",
       "    }\n",
       "\n",
       "    .dataframe thead th {\n",
       "        text-align: right;\n",
       "    }\n",
       "</style>\n",
       "<table border=\"1\" class=\"dataframe\">\n",
       "  <thead>\n",
       "    <tr style=\"text-align: right;\">\n",
       "      <th></th>\n",
       "      <th>STORE_NBR</th>\n",
       "      <th>MONTH_YEAR</th>\n",
       "      <th>TOT_SALES</th>\n",
       "      <th>TOT_CUSTOMERS</th>\n",
       "      <th>TRANSACTIONS_PER_CUST</th>\n",
       "      <th>CHIPS_PER_TRANS</th>\n",
       "      <th>PRICE_PER_UNIT</th>\n",
       "    </tr>\n",
       "  </thead>\n",
       "  <tbody>\n",
       "    <tr>\n",
       "      <th>0</th>\n",
       "      <td>1</td>\n",
       "      <td>2018-07</td>\n",
       "      <td>186.6</td>\n",
       "      <td>46</td>\n",
       "      <td>1.043478</td>\n",
       "      <td>1.187500</td>\n",
       "      <td>3.273684</td>\n",
       "    </tr>\n",
       "    <tr>\n",
       "      <th>1</th>\n",
       "      <td>1</td>\n",
       "      <td>2018-08</td>\n",
       "      <td>166.1</td>\n",
       "      <td>40</td>\n",
       "      <td>1.000000</td>\n",
       "      <td>1.275000</td>\n",
       "      <td>3.256863</td>\n",
       "    </tr>\n",
       "    <tr>\n",
       "      <th>2</th>\n",
       "      <td>1</td>\n",
       "      <td>2018-09</td>\n",
       "      <td>252.9</td>\n",
       "      <td>54</td>\n",
       "      <td>1.037037</td>\n",
       "      <td>1.196429</td>\n",
       "      <td>3.774627</td>\n",
       "    </tr>\n",
       "    <tr>\n",
       "      <th>3</th>\n",
       "      <td>1</td>\n",
       "      <td>2018-10</td>\n",
       "      <td>175.4</td>\n",
       "      <td>39</td>\n",
       "      <td>1.025641</td>\n",
       "      <td>1.275000</td>\n",
       "      <td>3.439216</td>\n",
       "    </tr>\n",
       "    <tr>\n",
       "      <th>4</th>\n",
       "      <td>1</td>\n",
       "      <td>2018-11</td>\n",
       "      <td>182.5</td>\n",
       "      <td>43</td>\n",
       "      <td>1.023256</td>\n",
       "      <td>1.227273</td>\n",
       "      <td>3.379630</td>\n",
       "    </tr>\n",
       "  </tbody>\n",
       "</table>\n",
       "</div>"
      ],
      "text/plain": [
       "   STORE_NBR MONTH_YEAR  TOT_SALES  TOT_CUSTOMERS  TRANSACTIONS_PER_CUST  \\\n",
       "0          1    2018-07      186.6             46               1.043478   \n",
       "1          1    2018-08      166.1             40               1.000000   \n",
       "2          1    2018-09      252.9             54               1.037037   \n",
       "3          1    2018-10      175.4             39               1.025641   \n",
       "4          1    2018-11      182.5             43               1.023256   \n",
       "\n",
       "   CHIPS_PER_TRANS  PRICE_PER_UNIT  \n",
       "0         1.187500        3.273684  \n",
       "1         1.275000        3.256863  \n",
       "2         1.196429        3.774627  \n",
       "3         1.275000        3.439216  \n",
       "4         1.227273        3.379630  "
      ]
     },
     "execution_count": 11,
     "metadata": {},
     "output_type": "execute_result"
    }
   ],
   "source": [
    "pre_trial.head()"
   ]
  },
  {
   "cell_type": "markdown",
   "metadata": {},
   "source": [
    "Correlation"
   ]
  },
  {
   "cell_type": "code",
   "execution_count": 90,
   "metadata": {},
   "outputs": [],
   "source": [
    "def calculateCorrelation(control_stores, metric, trial_store):\n",
    "    corr_values = []\n",
    "    for c in control_stores:\n",
    "        corr,_= pearsonr(pre_trial[metric][pre_trial['STORE_NBR'] == c],pre_trial[metric][pre_trial['STORE_NBR'] == trial_store])\n",
    "        corr_values.append(corr)\n",
    "    return corr_values"
   ]
  },
  {
   "cell_type": "code",
   "execution_count": 91,
   "metadata": {},
   "outputs": [],
   "source": [
    "metric = 'TOT_SALES'\n",
    "trial = 77\n",
    "corr_77Sales = pd.DataFrame({'STORE_NBR':pre_trial['STORE_NBR'].unique()})\n",
    "corr_77Sales['CORR_SALES'] = calculateCorrelation(pre_trial['STORE_NBR'].unique(),metric,trial)"
   ]
  },
  {
   "cell_type": "code",
   "execution_count": 92,
   "metadata": {},
   "outputs": [],
   "source": [
    "metric = 'TOT_CUSTOMERS'\n",
    "trial = 77\n",
    "corr_77Customers = pd.DataFrame({'STORE_NBR':pre_trial['STORE_NBR'].unique()})\n",
    "corr_77Customers['CORR_CUSTOMERS'] = calculateCorrelation(pre_trial['STORE_NBR'].unique(),metric,trial)"
   ]
  },
  {
   "cell_type": "code",
   "execution_count": 93,
   "metadata": {},
   "outputs": [],
   "source": [
    "def calculateMagnitudeDistance(control_stores, metric, trial_store, months):\n",
    "    count = 0\n",
    "    values = {}\n",
    "    list_values = []\n",
    "    for c in control_stores:\n",
    "        for m in months:\n",
    "            v1 = (pre_trial[metric][(pre_trial['STORE_NBR'] == trial_store) & (pre_trial['MONTH_YEAR'] == m)]).values[0]\n",
    "            v2 = (pre_trial[metric][(pre_trial['STORE_NBR'] == c) & (pre_trial['MONTH_YEAR'] == m)]).values[0]\n",
    "            measure = abs(v1 - v2)\n",
    "            values[count] = round(measure,2)\n",
    "            count = count+1\n",
    "    [list_values.extend([v]) for k,v in values.items()]\n",
    "    return list_values"
   ]
  },
  {
   "cell_type": "code",
   "execution_count": 94,
   "metadata": {},
   "outputs": [],
   "source": [
    "metric = 'TOT_SALES'\n",
    "trial = 77\n",
    "months = ['2018-07','2018-08','2018-09','2018-10','2018-11','2018-12','2019-01']\n",
    "magnitude_77Sales = pd.DataFrame({'STORE_NBR':pre_trial['STORE_NBR']})\n",
    "magnitude_77Sales['MONTH_YEAR'] = pre_trial['MONTH_YEAR']\n",
    "magnitude_77Sales['MAG_SALES'] = calculateMagnitudeDistance(pre_trial['STORE_NBR'].unique(),metric,trial, months)"
   ]
  },
  {
   "cell_type": "code",
   "execution_count": 95,
   "metadata": {},
   "outputs": [],
   "source": [
    "metric = 'TOT_CUSTOMERS'\n",
    "trial = 77\n",
    "months = ['2018-07','2018-08','2018-09','2018-10','2018-11','2018-12','2019-01']\n",
    "magnitude_77Customers = pd.DataFrame({'STORE_NBR':pre_trial['STORE_NBR']})\n",
    "magnitude_77Customers['MONTH_YEAR'] = pre_trial['MONTH_YEAR']\n",
    "magnitude_77Customers['MAG_CUSTOMERS'] = calculateMagnitudeDistance(pre_trial['STORE_NBR'].unique(),metric,trial, months)"
   ]
  },
  {
   "cell_type": "code",
   "execution_count": 18,
   "metadata": {},
   "outputs": [
    {
     "data": {
      "text/html": [
       "<div>\n",
       "<style scoped>\n",
       "    .dataframe tbody tr th:only-of-type {\n",
       "        vertical-align: middle;\n",
       "    }\n",
       "\n",
       "    .dataframe tbody tr th {\n",
       "        vertical-align: top;\n",
       "    }\n",
       "\n",
       "    .dataframe thead th {\n",
       "        text-align: right;\n",
       "    }\n",
       "</style>\n",
       "<table border=\"1\" class=\"dataframe\">\n",
       "  <thead>\n",
       "    <tr style=\"text-align: right;\">\n",
       "      <th></th>\n",
       "      <th>STORE_NBR</th>\n",
       "      <th>MONTH_YEAR</th>\n",
       "      <th>MAG_CUSTOMERS</th>\n",
       "    </tr>\n",
       "  </thead>\n",
       "  <tbody>\n",
       "    <tr>\n",
       "      <th>0</th>\n",
       "      <td>1</td>\n",
       "      <td>2018-07</td>\n",
       "      <td>1</td>\n",
       "    </tr>\n",
       "    <tr>\n",
       "      <th>1</th>\n",
       "      <td>1</td>\n",
       "      <td>2018-08</td>\n",
       "      <td>5</td>\n",
       "    </tr>\n",
       "    <tr>\n",
       "      <th>2</th>\n",
       "      <td>1</td>\n",
       "      <td>2018-09</td>\n",
       "      <td>14</td>\n",
       "    </tr>\n",
       "    <tr>\n",
       "      <th>3</th>\n",
       "      <td>1</td>\n",
       "      <td>2018-10</td>\n",
       "      <td>7</td>\n",
       "    </tr>\n",
       "    <tr>\n",
       "      <th>4</th>\n",
       "      <td>1</td>\n",
       "      <td>2018-11</td>\n",
       "      <td>6</td>\n",
       "    </tr>\n",
       "  </tbody>\n",
       "</table>\n",
       "</div>"
      ],
      "text/plain": [
       "   STORE_NBR MONTH_YEAR  MAG_CUSTOMERS\n",
       "0          1    2018-07              1\n",
       "1          1    2018-08              5\n",
       "2          1    2018-09             14\n",
       "3          1    2018-10              7\n",
       "4          1    2018-11              6"
      ]
     },
     "execution_count": 18,
     "metadata": {},
     "output_type": "execute_result"
    }
   ],
   "source": [
    "magnitude_77Customers.head()"
   ]
  },
  {
   "cell_type": "code",
   "execution_count": 96,
   "metadata": {},
   "outputs": [],
   "source": [
    "min_values = {}\n",
    "max_values = {}\n",
    "def calculateMinMax(mag_df, control_stores, metric, months):\n",
    "    for m in months:\n",
    "        min_values[m] = min(mag_df[metric][(mag_df['MONTH_YEAR'] == m)])\n",
    "        max_values[m] = max(mag_df[metric][(mag_df['MONTH_YEAR'] == m)])\n",
    "    std_measures_list = []\n",
    "    for c in control_stores:\n",
    "        for m in months:\n",
    "            measure = mag_df[metric][(mag_df['STORE_NBR'] == c) & (mag_df['MONTH_YEAR'] == m)]\n",
    "            std_measure =  1 - (measure - min_values[m])/(max_values[m] - min_values[m])\n",
    "            std_measures_list.append(std_measure.values[0])\n",
    "    return std_measures_list"
   ]
  },
  {
   "cell_type": "code",
   "execution_count": 97,
   "metadata": {},
   "outputs": [],
   "source": [
    "months_list = ['2018-07','2018-08','2018-09','2018-10','2018-11','2018-12','2019-01']\n",
    "magnitude_77Sales['STD_SALES'] = calculateMinMax(magnitude_77Sales,magnitude_77Sales['STORE_NBR'].unique(),'MAG_SALES', months_list)"
   ]
  },
  {
   "cell_type": "code",
   "execution_count": 98,
   "metadata": {},
   "outputs": [],
   "source": [
    "months_list = ['2018-07','2018-08','2018-09','2018-10','2018-11','2018-12','2019-01']\n",
    "magnitude_77Customers['STD_CUSTOMERS'] = calculateMinMax(magnitude_77Customers,magnitude_77Customers['STORE_NBR'].unique(),'MAG_CUSTOMERS', months_list)"
   ]
  },
  {
   "cell_type": "code",
   "execution_count": 22,
   "metadata": {},
   "outputs": [
    {
     "data": {
      "text/html": [
       "<div>\n",
       "<style scoped>\n",
       "    .dataframe tbody tr th:only-of-type {\n",
       "        vertical-align: middle;\n",
       "    }\n",
       "\n",
       "    .dataframe tbody tr th {\n",
       "        vertical-align: top;\n",
       "    }\n",
       "\n",
       "    .dataframe thead th {\n",
       "        text-align: right;\n",
       "    }\n",
       "</style>\n",
       "<table border=\"1\" class=\"dataframe\">\n",
       "  <thead>\n",
       "    <tr style=\"text-align: right;\">\n",
       "      <th></th>\n",
       "      <th>STORE_NBR</th>\n",
       "      <th>MONTH_YEAR</th>\n",
       "      <th>MAG_SALES</th>\n",
       "      <th>STD_SALES</th>\n",
       "    </tr>\n",
       "  </thead>\n",
       "  <tbody>\n",
       "    <tr>\n",
       "      <th>0</th>\n",
       "      <td>1</td>\n",
       "      <td>2018-07</td>\n",
       "      <td>70.9</td>\n",
       "      <td>0.943618</td>\n",
       "    </tr>\n",
       "    <tr>\n",
       "      <th>1</th>\n",
       "      <td>1</td>\n",
       "      <td>2018-08</td>\n",
       "      <td>72.8</td>\n",
       "      <td>0.932241</td>\n",
       "    </tr>\n",
       "    <tr>\n",
       "      <th>2</th>\n",
       "      <td>1</td>\n",
       "      <td>2018-09</td>\n",
       "      <td>36.1</td>\n",
       "      <td>0.968233</td>\n",
       "    </tr>\n",
       "    <tr>\n",
       "      <th>3</th>\n",
       "      <td>1</td>\n",
       "      <td>2018-10</td>\n",
       "      <td>3.2</td>\n",
       "      <td>0.997463</td>\n",
       "    </tr>\n",
       "    <tr>\n",
       "      <th>4</th>\n",
       "      <td>1</td>\n",
       "      <td>2018-11</td>\n",
       "      <td>33.5</td>\n",
       "      <td>0.974191</td>\n",
       "    </tr>\n",
       "  </tbody>\n",
       "</table>\n",
       "</div>"
      ],
      "text/plain": [
       "   STORE_NBR MONTH_YEAR  MAG_SALES  STD_SALES\n",
       "0          1    2018-07       70.9   0.943618\n",
       "1          1    2018-08       72.8   0.932241\n",
       "2          1    2018-09       36.1   0.968233\n",
       "3          1    2018-10        3.2   0.997463\n",
       "4          1    2018-11       33.5   0.974191"
      ]
     },
     "execution_count": 22,
     "metadata": {},
     "output_type": "execute_result"
    }
   ],
   "source": [
    "magnitude_77Sales.head()"
   ]
  },
  {
   "cell_type": "markdown",
   "metadata": {},
   "source": [
    "Combining correlation and magnitude scores by averaging them(both having equal weightage)"
   ]
  },
  {
   "cell_type": "code",
   "execution_count": 99,
   "metadata": {},
   "outputs": [],
   "source": [
    "def combineValues(corr_df, mag_df,corr_metric, mag_metric, control_stores, months):\n",
    "    average_values = []\n",
    "    for c in control_stores:\n",
    "        corr_value = corr_df[corr_metric][corr_df['STORE_NBR'] == c]\n",
    "        for m in months:\n",
    "            mag_value = mag_df[mag_metric][(mag_df['STORE_NBR'] == c) & (mag_df['MONTH_YEAR'] == m)]\n",
    "            average = 0.5*(corr_value.values[0]) + 0.5*(mag_value.values[0])\n",
    "            average_values.append(average)\n",
    "    return average_values"
   ]
  },
  {
   "cell_type": "code",
   "execution_count": 100,
   "metadata": {},
   "outputs": [],
   "source": [
    "corr_metric = 'CORR_SALES'\n",
    "mag_metric = 'STD_SALES'\n",
    "months = ['2018-07','2018-08','2018-09','2018-10','2018-11','2018-12','2019-01']\n",
    "score_77Sales = pd.DataFrame({'STORE_NBR':pre_trial['STORE_NBR']})\n",
    "score_77Sales['MONTH_YEAR'] = pre_trial['MONTH_YEAR']\n",
    "score_77Sales['AVERAGE_SALES'] = combineValues(corr_77Sales,magnitude_77Sales,corr_metric,mag_metric,\n",
    "                                         magnitude_77Sales['STORE_NBR'].unique(), months)"
   ]
  },
  {
   "cell_type": "code",
   "execution_count": 101,
   "metadata": {},
   "outputs": [],
   "source": [
    "corr_metric = 'CORR_CUSTOMERS'\n",
    "mag_metric = 'STD_CUSTOMERS'\n",
    "months = ['2018-07','2018-08','2018-09','2018-10','2018-11','2018-12','2019-01']\n",
    "score_77Customers = pd.DataFrame({'STORE_NBR':pre_trial['STORE_NBR']})\n",
    "score_77Customers['MONTH_YEAR'] = pre_trial['MONTH_YEAR']\n",
    "score_77Customers['AVERAGE_CUSTOMERS'] = combineValues(corr_77Customers,magnitude_77Customers,corr_metric,mag_metric,\n",
    "                                         magnitude_77Customers['STORE_NBR'].unique(), months)"
   ]
  },
  {
   "cell_type": "code",
   "execution_count": 102,
   "metadata": {},
   "outputs": [
    {
     "data": {
      "text/html": [
       "<div>\n",
       "<style scoped>\n",
       "    .dataframe tbody tr th:only-of-type {\n",
       "        vertical-align: middle;\n",
       "    }\n",
       "\n",
       "    .dataframe tbody tr th {\n",
       "        vertical-align: top;\n",
       "    }\n",
       "\n",
       "    .dataframe thead th {\n",
       "        text-align: right;\n",
       "    }\n",
       "</style>\n",
       "<table border=\"1\" class=\"dataframe\">\n",
       "  <thead>\n",
       "    <tr style=\"text-align: right;\">\n",
       "      <th></th>\n",
       "      <th>STORE_NBR</th>\n",
       "      <th>MONTH_YEAR</th>\n",
       "      <th>AVERAGE_SALES</th>\n",
       "      <th>AVERAGE_CUSTOMERS</th>\n",
       "    </tr>\n",
       "  </thead>\n",
       "  <tbody>\n",
       "    <tr>\n",
       "      <th>0</th>\n",
       "      <td>1</td>\n",
       "      <td>2018-07</td>\n",
       "      <td>0.465422</td>\n",
       "      <td>0.668933</td>\n",
       "    </tr>\n",
       "    <tr>\n",
       "      <th>1</th>\n",
       "      <td>1</td>\n",
       "      <td>2018-08</td>\n",
       "      <td>0.460498</td>\n",
       "      <td>0.639863</td>\n",
       "    </tr>\n",
       "    <tr>\n",
       "      <th>2</th>\n",
       "      <td>1</td>\n",
       "      <td>2018-09</td>\n",
       "      <td>0.474907</td>\n",
       "      <td>0.575526</td>\n",
       "    </tr>\n",
       "    <tr>\n",
       "      <th>3</th>\n",
       "      <td>1</td>\n",
       "      <td>2018-10</td>\n",
       "      <td>0.489889</td>\n",
       "      <td>0.653933</td>\n",
       "    </tr>\n",
       "    <tr>\n",
       "      <th>4</th>\n",
       "      <td>1</td>\n",
       "      <td>2018-11</td>\n",
       "      <td>0.481960</td>\n",
       "      <td>0.643423</td>\n",
       "    </tr>\n",
       "  </tbody>\n",
       "</table>\n",
       "</div>"
      ],
      "text/plain": [
       "   STORE_NBR MONTH_YEAR  AVERAGE_SALES  AVERAGE_CUSTOMERS\n",
       "0          1    2018-07       0.465422           0.668933\n",
       "1          1    2018-08       0.460498           0.639863\n",
       "2          1    2018-09       0.474907           0.575526\n",
       "3          1    2018-10       0.489889           0.653933\n",
       "4          1    2018-11       0.481960           0.643423"
      ]
     },
     "execution_count": 102,
     "metadata": {},
     "output_type": "execute_result"
    }
   ],
   "source": [
    "score_77_Control = pd.merge(score_77Sales, score_77Customers, on=['STORE_NBR','MONTH_YEAR'],how='inner')\n",
    "score_77_Control.head()"
   ]
  },
  {
   "cell_type": "code",
   "execution_count": 103,
   "metadata": {},
   "outputs": [
    {
     "data": {
      "text/html": [
       "<div>\n",
       "<style scoped>\n",
       "    .dataframe tbody tr th:only-of-type {\n",
       "        vertical-align: middle;\n",
       "    }\n",
       "\n",
       "    .dataframe tbody tr th {\n",
       "        vertical-align: top;\n",
       "    }\n",
       "\n",
       "    .dataframe thead th {\n",
       "        text-align: right;\n",
       "    }\n",
       "</style>\n",
       "<table border=\"1\" class=\"dataframe\">\n",
       "  <thead>\n",
       "    <tr style=\"text-align: right;\">\n",
       "      <th></th>\n",
       "      <th>STORE_NBR</th>\n",
       "      <th>MONTH_YEAR</th>\n",
       "      <th>AVERAGE_SALES</th>\n",
       "      <th>AVERAGE_CUSTOMERS</th>\n",
       "      <th>finalControlScore</th>\n",
       "    </tr>\n",
       "  </thead>\n",
       "  <tbody>\n",
       "    <tr>\n",
       "      <th>0</th>\n",
       "      <td>1</td>\n",
       "      <td>2018-07</td>\n",
       "      <td>0.465422</td>\n",
       "      <td>0.668933</td>\n",
       "      <td>0.567177</td>\n",
       "    </tr>\n",
       "    <tr>\n",
       "      <th>1</th>\n",
       "      <td>1</td>\n",
       "      <td>2018-08</td>\n",
       "      <td>0.460498</td>\n",
       "      <td>0.639863</td>\n",
       "      <td>0.550180</td>\n",
       "    </tr>\n",
       "    <tr>\n",
       "      <th>2</th>\n",
       "      <td>1</td>\n",
       "      <td>2018-09</td>\n",
       "      <td>0.474907</td>\n",
       "      <td>0.575526</td>\n",
       "      <td>0.525217</td>\n",
       "    </tr>\n",
       "    <tr>\n",
       "      <th>3</th>\n",
       "      <td>1</td>\n",
       "      <td>2018-10</td>\n",
       "      <td>0.489889</td>\n",
       "      <td>0.653933</td>\n",
       "      <td>0.571911</td>\n",
       "    </tr>\n",
       "    <tr>\n",
       "      <th>4</th>\n",
       "      <td>1</td>\n",
       "      <td>2018-11</td>\n",
       "      <td>0.481960</td>\n",
       "      <td>0.643423</td>\n",
       "      <td>0.562691</td>\n",
       "    </tr>\n",
       "  </tbody>\n",
       "</table>\n",
       "</div>"
      ],
      "text/plain": [
       "   STORE_NBR MONTH_YEAR  AVERAGE_SALES  AVERAGE_CUSTOMERS  finalControlScore\n",
       "0          1    2018-07       0.465422           0.668933           0.567177\n",
       "1          1    2018-08       0.460498           0.639863           0.550180\n",
       "2          1    2018-09       0.474907           0.575526           0.525217\n",
       "3          1    2018-10       0.489889           0.653933           0.571911\n",
       "4          1    2018-11       0.481960           0.643423           0.562691"
      ]
     },
     "execution_count": 103,
     "metadata": {},
     "output_type": "execute_result"
    }
   ],
   "source": [
    "score_77_Control['finalControlScore'] = 0.5*score_77_Control['AVERAGE_SALES'] + 0.5*score_77_Control['AVERAGE_CUSTOMERS']\n",
    "score_77_Control.head()"
   ]
  },
  {
   "cell_type": "code",
   "execution_count": 104,
   "metadata": {},
   "outputs": [],
   "source": [
    "avg_control_score = {}\n",
    "control_stores = score_77_Control['STORE_NBR'].unique()\n",
    "for c in control_stores:\n",
    "    avg_control_score[c] = round(score_77_Control['finalControlScore'][(score_77_Control['STORE_NBR'] == c)].mean(),2)    "
   ]
  },
  {
   "cell_type": "markdown",
   "metadata": {},
   "source": [
    "Sort scores, the control score next to trial store(77) has similar trend to it."
   ]
  },
  {
   "cell_type": "code",
   "execution_count": 105,
   "metadata": {},
   "outputs": [
    {
     "name": "stdout",
     "output_type": "stream",
     "text": [
      "{75: -0.18, 138: -0.08, 147: -0.08, 227: -0.08, 4: -0.07, 247: -0.07, 19: -0.05, 55: -0.04, 102: -0.02, 179: -0.02, 172: -0.01, 24: 0.0, 165: 0.0, 208: 0.01, 49: 0.02, 80: 0.03, 186: 0.03, 269: 0.03, 242: 0.04, 9: 0.05, 67: 0.05, 201: 0.05, 65: 0.06, 210: 0.06, 125: 0.07, 133: 0.07, 129: 0.09, 155: 0.09, 180: 0.09, 58: 0.1, 223: 0.1, 258: 0.1, 54: 0.11, 160: 0.11, 169: 0.11, 231: 0.11, 267: 0.11, 194: 0.12, 226: 0.12, 261: 0.12, 86: 0.13, 100: 0.13, 137: 0.13, 166: 0.13, 244: 0.13, 78: 0.14, 158: 0.14, 97: 0.15, 7: 0.16, 95: 0.16, 107: 0.16, 184: 0.16, 209: 0.16, 61: 0.17, 89: 0.17, 110: 0.17, 154: 0.17, 183: 0.17, 238: 0.17, 241: 0.17, 116: 0.18, 130: 0.18, 101: 0.19, 114: 0.19, 207: 0.19, 216: 0.19, 22: 0.2, 40: 0.2, 156: 0.2, 8: 0.21, 88: 0.21, 259: 0.21, 59: 0.22, 79: 0.22, 94: 0.22, 217: 0.22, 70: 0.23, 106: 0.23, 123: 0.23, 198: 0.23, 13: 0.24, 224: 0.24, 2: 0.25, 32: 0.25, 90: 0.25, 109: 0.25, 213: 0.25, 15: 0.26, 25: 0.26, 43: 0.26, 52: 0.26, 91: 0.26, 112: 0.26, 152: 0.26, 266: 0.26, 16: 0.27, 82: 0.27, 26: 0.28, 83: 0.28, 99: 0.28, 126: 0.28, 175: 0.28, 190: 0.28, 243: 0.28, 270: 0.28, 5: 0.29, 29: 0.29, 127: 0.29, 199: 0.29, 219: 0.29, 255: 0.29, 262: 0.29, 93: 0.3, 104: 0.3, 118: 0.3, 181: 0.3, 36: 0.31, 153: 0.31, 230: 0.31, 232: 0.31, 239: 0.31, 240: 0.31, 246: 0.31, 56: 0.32, 103: 0.32, 124: 0.32, 163: 0.32, 196: 0.32, 203: 0.32, 215: 0.32, 225: 0.32, 45: 0.33, 74: 0.33, 220: 0.33, 271: 0.33, 23: 0.34, 38: 0.34, 48: 0.34, 81: 0.34, 146: 0.34, 164: 0.34, 212: 0.34, 72: 0.35, 66: 0.36, 87: 0.36, 128: 0.36, 141: 0.36, 168: 0.36, 222: 0.36, 28: 0.37, 122: 0.37, 134: 0.37, 140: 0.37, 142: 0.37, 159: 0.37, 191: 0.37, 33: 0.38, 143: 0.38, 171: 0.38, 144: 0.39, 249: 0.39, 18: 0.4, 63: 0.4, 182: 0.4, 10: 0.41, 39: 0.41, 42: 0.41, 120: 0.41, 132: 0.41, 148: 0.41, 221: 0.41, 135: 0.42, 260: 0.42, 68: 0.43, 204: 0.43, 214: 0.43, 235: 0.43, 272: 0.43, 12: 0.44, 62: 0.44, 185: 0.44, 108: 0.45, 189: 0.45, 237: 0.45, 34: 0.46, 47: 0.46, 69: 0.46, 73: 0.46, 200: 0.46, 60: 0.47, 98: 0.47, 257: 0.47, 6: 0.48, 51: 0.48, 170: 0.48, 236: 0.48, 256: 0.48, 229: 0.49, 149: 0.5, 250: 0.5, 251: 0.5, 57: 0.51, 263: 0.51, 30: 0.52, 174: 0.52, 3: 0.53, 253: 0.53, 136: 0.54, 139: 0.54, 173: 0.54, 197: 0.54, 178: 0.55, 228: 0.55, 245: 0.55, 1: 0.56, 71: 0.57, 161: 0.57, 21: 0.58, 131: 0.58, 192: 0.59, 150: 0.6, 151: 0.6, 105: 0.61, 157: 0.61, 14: 0.62, 176: 0.62, 205: 0.62, 264: 0.62, 64: 0.63, 202: 0.63, 113: 0.64, 187: 0.64, 96: 0.65, 119: 0.65, 145: 0.65, 20: 0.66, 111: 0.67, 162: 0.67, 268: 0.67, 46: 0.69, 37: 0.7, 248: 0.7, 188: 0.71, 265: 0.72, 115: 0.73, 121: 0.73, 234: 0.73, 195: 0.74, 17: 0.78, 27: 0.79, 53: 0.8, 41: 0.81, 167: 0.81, 84: 0.82, 254: 0.83, 35: 0.85, 50: 0.88, 233: 0.98, 77: 1.0}\n"
     ]
    }
   ],
   "source": [
    "avg_control_score = {k: v for k, v in sorted(avg_control_score.items(), key=lambda item: item[1])}\n",
    "print(avg_control_score)"
   ]
  },
  {
   "cell_type": "markdown",
   "metadata": {},
   "source": [
    "I find control store 233 as the most similar to 77 trial store."
   ]
  },
  {
   "cell_type": "markdown",
   "metadata": {},
   "source": [
    "Visualize total sales of different store type(Pre trial)."
   ]
  },
  {
   "cell_type": "code",
   "execution_count": 106,
   "metadata": {},
   "outputs": [],
   "source": [
    "measure_over_month_sales = measure_over_month[['STORE_NBR','MONTH_YEAR','TOT_SALES']]"
   ]
  },
  {
   "cell_type": "code",
   "execution_count": 107,
   "metadata": {},
   "outputs": [],
   "source": [
    "trial_store = 77\n",
    "control_store = 233\n",
    "pastSalesTrial = measure_over_month_sales[['MONTH_YEAR','TOT_SALES']][(measure_over_month_sales['STORE_NBR'] == trial_store) & \n",
    "                                          (measure_over_month_sales['MONTH_YEAR'] < '2019-02')].reset_index(drop=True)\n",
    "pastSalesControl = measure_over_month_sales[['MONTH_YEAR','TOT_SALES']][(measure_over_month_sales['STORE_NBR'] == control_store) & \n",
    "                                            (measure_over_month_sales['MONTH_YEAR'] < '2019-02')].reset_index(drop=True)"
   ]
  },
  {
   "cell_type": "code",
   "execution_count": 108,
   "metadata": {},
   "outputs": [
    {
     "data": {
      "text/html": [
       "<div>\n",
       "<style scoped>\n",
       "    .dataframe tbody tr th:only-of-type {\n",
       "        vertical-align: middle;\n",
       "    }\n",
       "\n",
       "    .dataframe tbody tr th {\n",
       "        vertical-align: top;\n",
       "    }\n",
       "\n",
       "    .dataframe thead th {\n",
       "        text-align: right;\n",
       "    }\n",
       "</style>\n",
       "<table border=\"1\" class=\"dataframe\">\n",
       "  <thead>\n",
       "    <tr style=\"text-align: right;\">\n",
       "      <th></th>\n",
       "      <th>MONTH_YEAR</th>\n",
       "      <th>AVG_SALES</th>\n",
       "    </tr>\n",
       "  </thead>\n",
       "  <tbody>\n",
       "    <tr>\n",
       "      <th>0</th>\n",
       "      <td>2018-07</td>\n",
       "      <td>587.690458</td>\n",
       "    </tr>\n",
       "    <tr>\n",
       "      <th>1</th>\n",
       "      <td>2018-08</td>\n",
       "      <td>562.888314</td>\n",
       "    </tr>\n",
       "    <tr>\n",
       "      <th>2</th>\n",
       "      <td>2018-09</td>\n",
       "      <td>571.073282</td>\n",
       "    </tr>\n",
       "    <tr>\n",
       "      <th>3</th>\n",
       "      <td>2018-10</td>\n",
       "      <td>582.131179</td>\n",
       "    </tr>\n",
       "    <tr>\n",
       "      <th>4</th>\n",
       "      <td>2018-11</td>\n",
       "      <td>569.382061</td>\n",
       "    </tr>\n",
       "    <tr>\n",
       "      <th>5</th>\n",
       "      <td>2018-12</td>\n",
       "      <td>597.475096</td>\n",
       "    </tr>\n",
       "    <tr>\n",
       "      <th>6</th>\n",
       "      <td>2019-01</td>\n",
       "      <td>579.520690</td>\n",
       "    </tr>\n",
       "  </tbody>\n",
       "</table>\n",
       "</div>"
      ],
      "text/plain": [
       "  MONTH_YEAR   AVG_SALES\n",
       "0    2018-07  587.690458\n",
       "1    2018-08  562.888314\n",
       "2    2018-09  571.073282\n",
       "3    2018-10  582.131179\n",
       "4    2018-11  569.382061\n",
       "5    2018-12  597.475096\n",
       "6    2019-01  579.520690"
      ]
     },
     "execution_count": 108,
     "metadata": {},
     "output_type": "execute_result"
    }
   ],
   "source": [
    "months = ['2018-07','2018-08','2018-09','2018-10','2018-11','2018-12','2019-01']\n",
    "other_stores = np.setdiff1d(measure_over_month_sales['STORE_NBR'].unique(),[trial_store,control_store])\n",
    "pastSalesOthers = pd.DataFrame({'MONTH_YEAR':measure_over_month_sales['MONTH_YEAR'].unique()[0:7]})\n",
    "avg_sales = []\n",
    "\n",
    "for m in months:\n",
    "    measure = measure_over_month_sales['TOT_SALES'][(measure_over_month_sales['STORE_NBR'].isin(other_stores)) & \n",
    "                             (measure_over_month_sales['MONTH_YEAR'] == m)]\n",
    "    avg_sales.append(measure.mean())\n",
    "    \n",
    "pastSalesOthers['AVG_SALES'] = avg_sales\n",
    "pastSalesOthers"
   ]
  },
  {
   "cell_type": "code",
   "execution_count": 109,
   "metadata": {
    "scrolled": true
   },
   "outputs": [
    {
     "data": {
      "image/png": "[encoded data removed]",
      "text/plain": [
       "<Figure size 432x288 with 1 Axes>"
      ]
     },
     "metadata": {
      "needs_background": "light"
     },
     "output_type": "display_data"
    }
   ],
   "source": [
    "fig = plt.figure()\n",
    "ax1 = fig.add_subplot(111)\n",
    "\n",
    "ax1.scatter(pastSalesOthers['MONTH_YEAR'], pastSalesOthers['AVG_SALES'], s=10, c='b', marker=\"s\", label='Other Stores')\n",
    "ax1.scatter(pastSalesTrial['MONTH_YEAR'],pastSalesTrial['TOT_SALES'], s=10, c='r', marker=\"o\", label='Trial Store(77)')\n",
    "ax1.scatter(pastSalesControl['MONTH_YEAR'],pastSalesControl['TOT_SALES'], s=10, c='g', marker=\"o\", label='Control Store(233) ')\n",
    "plt.legend(loc='upper left')\n",
    "plt.show()"
   ]
  },
  {
   "cell_type": "markdown",
   "metadata": {},
   "source": [
    "Visualize number of customers per month(pre trial)"
   ]
  },
  {
   "cell_type": "code",
   "execution_count": 110,
   "metadata": {},
   "outputs": [],
   "source": [
    "measure_over_month_customers = measure_over_month[['STORE_NBR','MONTH_YEAR','TOT_CUSTOMERS']]"
   ]
  },
  {
   "cell_type": "code",
   "execution_count": 111,
   "metadata": {},
   "outputs": [],
   "source": [
    "trial_store = 77\n",
    "control_store = 233\n",
    "pastCustomersTrial = measure_over_month_customers[['MONTH_YEAR','TOT_CUSTOMERS']][(measure_over_month_customers['STORE_NBR'] == trial_store) & \n",
    "                                          (measure_over_month_customers['MONTH_YEAR'] < '2019-02')].reset_index(drop=True)\n",
    "pastCustomersControl = measure_over_month_customers[['MONTH_YEAR','TOT_CUSTOMERS']][(measure_over_month_customers['STORE_NBR'] == control_store) & \n",
    "                                            (measure_over_month_customers['MONTH_YEAR'] < '2019-02')].reset_index(drop=True)"
   ]
  },
  {
   "cell_type": "code",
   "execution_count": 112,
   "metadata": {},
   "outputs": [
    {
     "data": {
      "text/html": [
       "<div>\n",
       "<style scoped>\n",
       "    .dataframe tbody tr th:only-of-type {\n",
       "        vertical-align: middle;\n",
       "    }\n",
       "\n",
       "    .dataframe tbody tr th {\n",
       "        vertical-align: top;\n",
       "    }\n",
       "\n",
       "    .dataframe thead th {\n",
       "        text-align: right;\n",
       "    }\n",
       "</style>\n",
       "<table border=\"1\" class=\"dataframe\">\n",
       "  <thead>\n",
       "    <tr style=\"text-align: right;\">\n",
       "      <th></th>\n",
       "      <th>MONTH_YEAR</th>\n",
       "      <th>AVG_CUSTOMERS</th>\n",
       "    </tr>\n",
       "  </thead>\n",
       "  <tbody>\n",
       "    <tr>\n",
       "      <th>0</th>\n",
       "      <td>2018-07</td>\n",
       "      <td>67.202290</td>\n",
       "    </tr>\n",
       "    <tr>\n",
       "      <th>1</th>\n",
       "      <td>2018-08</td>\n",
       "      <td>67.245211</td>\n",
       "    </tr>\n",
       "    <tr>\n",
       "      <th>2</th>\n",
       "      <td>2018-09</td>\n",
       "      <td>65.404580</td>\n",
       "    </tr>\n",
       "    <tr>\n",
       "      <th>3</th>\n",
       "      <td>2018-10</td>\n",
       "      <td>66.418251</td>\n",
       "    </tr>\n",
       "    <tr>\n",
       "      <th>4</th>\n",
       "      <td>2018-11</td>\n",
       "      <td>65.534351</td>\n",
       "    </tr>\n",
       "    <tr>\n",
       "      <th>5</th>\n",
       "      <td>2018-12</td>\n",
       "      <td>68.360153</td>\n",
       "    </tr>\n",
       "    <tr>\n",
       "      <th>6</th>\n",
       "      <td>2019-01</td>\n",
       "      <td>66.440613</td>\n",
       "    </tr>\n",
       "  </tbody>\n",
       "</table>\n",
       "</div>"
      ],
      "text/plain": [
       "  MONTH_YEAR  AVG_CUSTOMERS\n",
       "0    2018-07      67.202290\n",
       "1    2018-08      67.245211\n",
       "2    2018-09      65.404580\n",
       "3    2018-10      66.418251\n",
       "4    2018-11      65.534351\n",
       "5    2018-12      68.360153\n",
       "6    2019-01      66.440613"
      ]
     },
     "execution_count": 112,
     "metadata": {},
     "output_type": "execute_result"
    }
   ],
   "source": [
    "months = ['2018-07','2018-08','2018-09','2018-10','2018-11','2018-12','2019-01']\n",
    "other_stores = np.setdiff1d(measure_over_month_customers['STORE_NBR'].unique(),[trial_store,control_store])\n",
    "pastCustomersOthers = pd.DataFrame({'MONTH_YEAR':measure_over_month_customers['MONTH_YEAR'].unique()[0:7]})\n",
    "avg_customers = []\n",
    "\n",
    "for m in months:\n",
    "    measure = measure_over_month_customers['TOT_CUSTOMERS'][(measure_over_month_customers['STORE_NBR'].isin(other_stores)) & \n",
    "                             (measure_over_month_customers['MONTH_YEAR'] == m)]\n",
    "    avg_customers.append(measure.mean())\n",
    "    \n",
    "pastCustomersOthers['AVG_CUSTOMERS'] = avg_customers\n",
    "pastCustomersOthers"
   ]
  },
  {
   "cell_type": "code",
   "execution_count": 113,
   "metadata": {
    "scrolled": true
   },
   "outputs": [
    {
     "data": {
      "image/png": "[encoded data removed]",
      "text/plain": [
       "<Figure size 432x288 with 1 Axes>"
      ]
     },
     "metadata": {
      "needs_background": "light"
     },
     "output_type": "display_data"
    }
   ],
   "source": [
    "fig = plt.figure()\n",
    "ax1 = fig.add_subplot(111)\n",
    "\n",
    "ax1.scatter(pastCustomersOthers['MONTH_YEAR'], pastCustomersOthers['AVG_CUSTOMERS'], s=10, c='b', marker=\"s\", label='Other Stores')\n",
    "ax1.scatter(pastCustomersTrial['MONTH_YEAR'],pastCustomersTrial['TOT_CUSTOMERS'], s=10, c='r', marker=\"o\", label='Trial Store(77)')\n",
    "ax1.scatter(pastCustomersControl['MONTH_YEAR'],pastCustomersControl['TOT_CUSTOMERS'], s=10, c='g', marker=\"o\", label='Control Store(233) ')\n",
    "plt.legend(loc='upper left')\n",
    "plt.show()"
   ]
  },
  {
   "cell_type": "markdown",
   "metadata": {},
   "source": [
    "Comparison of results in trial period."
   ]
  },
  {
   "cell_type": "code",
   "execution_count": 114,
   "metadata": {},
   "outputs": [
    {
     "data": {
      "text/plain": [
       "1.0397523623330076"
      ]
     },
     "execution_count": 114,
     "metadata": {},
     "output_type": "execute_result"
    }
   ],
   "source": [
    "scaling_factor = pastSalesTrial['TOT_SALES'].sum()/pastSalesControl['TOT_SALES'].sum()\n",
    "scaling_factor"
   ]
  },
  {
   "cell_type": "code",
   "execution_count": 115,
   "metadata": {},
   "outputs": [
    {
     "data": {
      "text/html": [
       "<div>\n",
       "<style scoped>\n",
       "    .dataframe tbody tr th:only-of-type {\n",
       "        vertical-align: middle;\n",
       "    }\n",
       "\n",
       "    .dataframe tbody tr th {\n",
       "        vertical-align: top;\n",
       "    }\n",
       "\n",
       "    .dataframe thead th {\n",
       "        text-align: right;\n",
       "    }\n",
       "</style>\n",
       "<table border=\"1\" class=\"dataframe\">\n",
       "  <thead>\n",
       "    <tr style=\"text-align: right;\">\n",
       "      <th></th>\n",
       "      <th>MONTH_YEAR</th>\n",
       "      <th>CONTROL_SALES</th>\n",
       "    </tr>\n",
       "  </thead>\n",
       "  <tbody>\n",
       "    <tr>\n",
       "      <th>0</th>\n",
       "      <td>2018-07</td>\n",
       "      <td>281.980841</td>\n",
       "    </tr>\n",
       "    <tr>\n",
       "      <th>1</th>\n",
       "      <td>2018-08</td>\n",
       "      <td>271.063441</td>\n",
       "    </tr>\n",
       "    <tr>\n",
       "      <th>2</th>\n",
       "      <td>2018-09</td>\n",
       "      <td>229.681297</td>\n",
       "    </tr>\n",
       "    <tr>\n",
       "      <th>3</th>\n",
       "      <td>2018-10</td>\n",
       "      <td>165.632551</td>\n",
       "    </tr>\n",
       "    <tr>\n",
       "      <th>4</th>\n",
       "      <td>2018-11</td>\n",
       "      <td>214.708863</td>\n",
       "    </tr>\n",
       "    <tr>\n",
       "      <th>5</th>\n",
       "      <td>2018-12</td>\n",
       "      <td>275.950277</td>\n",
       "    </tr>\n",
       "    <tr>\n",
       "      <th>6</th>\n",
       "      <td>2019-01</td>\n",
       "      <td>156.482731</td>\n",
       "    </tr>\n",
       "    <tr>\n",
       "      <th>7</th>\n",
       "      <td>2019-02</td>\n",
       "      <td>229.473346</td>\n",
       "    </tr>\n",
       "    <tr>\n",
       "      <th>8</th>\n",
       "      <td>2019-03</td>\n",
       "      <td>187.779277</td>\n",
       "    </tr>\n",
       "    <tr>\n",
       "      <th>9</th>\n",
       "      <td>2019-04</td>\n",
       "      <td>149.932291</td>\n",
       "    </tr>\n",
       "    <tr>\n",
       "      <th>10</th>\n",
       "      <td>2019-05</td>\n",
       "      <td>324.506712</td>\n",
       "    </tr>\n",
       "    <tr>\n",
       "      <th>11</th>\n",
       "      <td>2019-06</td>\n",
       "      <td>204.831215</td>\n",
       "    </tr>\n",
       "  </tbody>\n",
       "</table>\n",
       "</div>"
      ],
      "text/plain": [
       "   MONTH_YEAR  CONTROL_SALES\n",
       "0     2018-07     281.980841\n",
       "1     2018-08     271.063441\n",
       "2     2018-09     229.681297\n",
       "3     2018-10     165.632551\n",
       "4     2018-11     214.708863\n",
       "5     2018-12     275.950277\n",
       "6     2019-01     156.482731\n",
       "7     2019-02     229.473346\n",
       "8     2019-03     187.779277\n",
       "9     2019-04     149.932291\n",
       "10    2019-05     324.506712\n",
       "11    2019-06     204.831215"
      ]
     },
     "execution_count": 115,
     "metadata": {},
     "output_type": "execute_result"
    }
   ],
   "source": [
    "salesControl = pd.DataFrame({'MONTH_YEAR':measure_over_month_sales['MONTH_YEAR'].unique()})\n",
    "salesControl['CONTROL_SALES'] = measure_over_month_sales[['TOT_SALES']][measure_over_month_sales['STORE_NBR'] == control_store].reset_index(drop=True) * scaling_factor\n",
    "salesControl"
   ]
  },
  {
   "cell_type": "code",
   "execution_count": 116,
   "metadata": {},
   "outputs": [
    {
     "data": {
      "text/html": [
       "<div>\n",
       "<style scoped>\n",
       "    .dataframe tbody tr th:only-of-type {\n",
       "        vertical-align: middle;\n",
       "    }\n",
       "\n",
       "    .dataframe tbody tr th {\n",
       "        vertical-align: top;\n",
       "    }\n",
       "\n",
       "    .dataframe thead th {\n",
       "        text-align: right;\n",
       "    }\n",
       "</style>\n",
       "<table border=\"1\" class=\"dataframe\">\n",
       "  <thead>\n",
       "    <tr style=\"text-align: right;\">\n",
       "      <th></th>\n",
       "      <th>MONTH_YEAR</th>\n",
       "      <th>%Diff</th>\n",
       "    </tr>\n",
       "  </thead>\n",
       "  <tbody>\n",
       "    <tr>\n",
       "      <th>0</th>\n",
       "      <td>2018-07</td>\n",
       "      <td>0.048162</td>\n",
       "    </tr>\n",
       "    <tr>\n",
       "      <th>1</th>\n",
       "      <td>2018-08</td>\n",
       "      <td>0.086930</td>\n",
       "    </tr>\n",
       "    <tr>\n",
       "      <th>2</th>\n",
       "      <td>2018-09</td>\n",
       "      <td>0.056083</td>\n",
       "    </tr>\n",
       "    <tr>\n",
       "      <th>3</th>\n",
       "      <td>2018-10</td>\n",
       "      <td>0.173079</td>\n",
       "    </tr>\n",
       "    <tr>\n",
       "      <th>4</th>\n",
       "      <td>2018-11</td>\n",
       "      <td>0.047465</td>\n",
       "    </tr>\n",
       "    <tr>\n",
       "      <th>5</th>\n",
       "      <td>2018-12</td>\n",
       "      <td>0.075196</td>\n",
       "    </tr>\n",
       "    <tr>\n",
       "      <th>6</th>\n",
       "      <td>2019-01</td>\n",
       "      <td>0.203967</td>\n",
       "    </tr>\n",
       "    <tr>\n",
       "      <th>7</th>\n",
       "      <td>2019-02</td>\n",
       "      <td>0.077889</td>\n",
       "    </tr>\n",
       "    <tr>\n",
       "      <th>8</th>\n",
       "      <td>2019-03</td>\n",
       "      <td>0.358510</td>\n",
       "    </tr>\n",
       "    <tr>\n",
       "      <th>9</th>\n",
       "      <td>2019-04</td>\n",
       "      <td>0.721444</td>\n",
       "    </tr>\n",
       "    <tr>\n",
       "      <th>10</th>\n",
       "      <td>2019-05</td>\n",
       "      <td>0.160880</td>\n",
       "    </tr>\n",
       "    <tr>\n",
       "      <th>11</th>\n",
       "      <td>2019-06</td>\n",
       "      <td>0.203918</td>\n",
       "    </tr>\n",
       "  </tbody>\n",
       "</table>\n",
       "</div>"
      ],
      "text/plain": [
       "   MONTH_YEAR     %Diff\n",
       "0     2018-07  0.048162\n",
       "1     2018-08  0.086930\n",
       "2     2018-09  0.056083\n",
       "3     2018-10  0.173079\n",
       "4     2018-11  0.047465\n",
       "5     2018-12  0.075196\n",
       "6     2019-01  0.203967\n",
       "7     2019-02  0.077889\n",
       "8     2019-03  0.358510\n",
       "9     2019-04  0.721444\n",
       "10    2019-05  0.160880\n",
       "11    2019-06  0.203918"
      ]
     },
     "execution_count": 116,
     "metadata": {},
     "output_type": "execute_result"
    }
   ],
   "source": [
    "percentageDiff = pd.DataFrame({'MONTH_YEAR':measure_over_month_sales['MONTH_YEAR'].unique()})\n",
    "salesTrial = measure_over_month_sales[['TOT_SALES']][(measure_over_month_sales['STORE_NBR'] == trial_store)].reset_index(drop=True)\n",
    "percentageDiff['%Diff'] = abs(salesControl['CONTROL_SALES'] - salesTrial['TOT_SALES'])/salesControl['CONTROL_SALES']\n",
    "percentageDiff"
   ]
  },
  {
   "cell_type": "markdown",
   "metadata": {},
   "source": [
    " As our null hypothesis is that the trial period is the same as the pre-trial\n",
    "period, let's take the standard deviation based on the scaled percentage difference\n",
    "in the pre-trial period "
   ]
  },
  {
   "cell_type": "code",
   "execution_count": 117,
   "metadata": {},
   "outputs": [
    {
     "data": {
      "text/plain": [
       "0.058918254528981466"
      ]
     },
     "execution_count": 117,
     "metadata": {},
     "output_type": "execute_result"
    }
   ],
   "source": [
    "standardDev_77_233 = percentageDiff['%Diff'][percentageDiff['MONTH_YEAR'] < '2019-02'].values.std()\n",
    "standardDev_77_233"
   ]
  },
  {
   "cell_type": "markdown",
   "metadata": {},
   "source": [
    " We will test with a null hypothesis of there being 0 difference between trial and control stores"
   ]
  },
  {
   "cell_type": "markdown",
   "metadata": {},
   "source": [
    "T Test- ratio of difference between the two groups and difference within the groups."
   ]
  },
  {
   "cell_type": "code",
   "execution_count": 118,
   "metadata": {},
   "outputs": [],
   "source": [
    "months = ['2019-02','2019-03','2019-04']\n",
    "stores_TValues_77_233 = pd.DataFrame({'TRANSACTION_MONTH':months})\n",
    "tvalues = []\n",
    "for m in months:\n",
    "    tvalues.append((percentageDiff['%Diff'][percentageDiff['MONTH_YEAR'] == m].values[0] - 0)/standardDev_77_233)\n",
    "stores_TValues_77_233['TVALUE'] = tvalues"
   ]
  },
  {
   "cell_type": "code",
   "execution_count": 119,
   "metadata": {
    "scrolled": true
   },
   "outputs": [
    {
     "data": {
      "text/html": [
       "<div>\n",
       "<style scoped>\n",
       "    .dataframe tbody tr th:only-of-type {\n",
       "        vertical-align: middle;\n",
       "    }\n",
       "\n",
       "    .dataframe tbody tr th {\n",
       "        vertical-align: top;\n",
       "    }\n",
       "\n",
       "    .dataframe thead th {\n",
       "        text-align: right;\n",
       "    }\n",
       "</style>\n",
       "<table border=\"1\" class=\"dataframe\">\n",
       "  <thead>\n",
       "    <tr style=\"text-align: right;\">\n",
       "      <th></th>\n",
       "      <th>TRANSACTION_MONTH</th>\n",
       "      <th>TVALUE</th>\n",
       "    </tr>\n",
       "  </thead>\n",
       "  <tbody>\n",
       "    <tr>\n",
       "      <th>0</th>\n",
       "      <td>2019-02</td>\n",
       "      <td>1.321977</td>\n",
       "    </tr>\n",
       "    <tr>\n",
       "      <th>1</th>\n",
       "      <td>2019-03</td>\n",
       "      <td>6.084869</td>\n",
       "    </tr>\n",
       "    <tr>\n",
       "      <th>2</th>\n",
       "      <td>2019-04</td>\n",
       "      <td>12.244825</td>\n",
       "    </tr>\n",
       "  </tbody>\n",
       "</table>\n",
       "</div>"
      ],
      "text/plain": [
       "  TRANSACTION_MONTH     TVALUE\n",
       "0           2019-02   1.321977\n",
       "1           2019-03   6.084869\n",
       "2           2019-04  12.244825"
      ]
     },
     "execution_count": 119,
     "metadata": {},
     "output_type": "execute_result"
    }
   ],
   "source": [
    "stores_TValues_77_233.head()"
   ]
  },
  {
   "cell_type": "code",
   "execution_count": 54,
   "metadata": {},
   "outputs": [
    {
     "data": {
      "text/plain": [
       "1.894578605061305"
      ]
     },
     "execution_count": 54,
     "metadata": {},
     "output_type": "execute_result"
    }
   ],
   "source": [
    "stats.t.ppf(0.95, 7)"
   ]
  },
  {
   "cell_type": "markdown",
   "metadata": {},
   "source": [
    "Tvalues of march and april is significantly higher than the 95th percentile value"
   ]
  },
  {
   "cell_type": "markdown",
   "metadata": {},
   "source": [
    "Sales:"
   ]
  },
  {
   "cell_type": "code",
   "execution_count": 173,
   "metadata": {},
   "outputs": [],
   "source": [
    "trial_store = 77\n",
    "control_store = 233\n",
    "allSalesTrial = measure_over_month_sales[['MONTH_YEAR','TOT_SALES']][(measure_over_month_sales['STORE_NBR'] == trial_store)].reset_index(drop=True)\n",
    "allSalesControl = measure_over_month_sales[['MONTH_YEAR','TOT_SALES']][(measure_over_month_sales['STORE_NBR'] == control_store)].reset_index(drop=True)"
   ]
  },
  {
   "cell_type": "code",
   "execution_count": 184,
   "metadata": {},
   "outputs": [],
   "source": [
    "allSalesControl_95['MONTH_YEAR'] = allSalesControl[['MONTH_YEAR']]\n",
    "allSalesControl_05 = allSalesControl[['MONTH_YEAR']]\n",
    "\n",
    "allSalesControl_95['TOT_SALES'] = allSalesControl[['TOT_SALES']]*(1 + standardDev_77_233 * 2)\n",
    "allSalesControl_05['TOT_SALES'] = allSalesControl[['TOT_SALES']]*(1 - standardDev_77_233 * 2)"
   ]
  },
  {
   "cell_type": "code",
   "execution_count": 190,
   "metadata": {
    "scrolled": true
   },
   "outputs": [
    {
     "data": {
      "image/png": "[encoded data removed]",
      "text/plain": [
       "<Figure size 864x720 with 1 Axes>"
      ]
     },
     "metadata": {
      "needs_background": "light"
     },
     "output_type": "display_data"
    }
   ],
   "source": [
    "fig = plt.figure(figsize=(12,10))\n",
    "ax1 = fig.add_subplot(111)\n",
    "\n",
    "ax1.plot(allSalesTrial['MONTH_YEAR'], allSalesTrial['TOT_SALES'], c='b', label='Trial Store(77)')\n",
    "ax1.plot(allSalesControl['MONTH_YEAR'],allSalesControl['TOT_SALES'], c='r', label='Control Store(233)')\n",
    "ax1.plot(allSalesControl_05['MONTH_YEAR'],allSalesControl_05['TOT_SALES'], c='g', label='Control Store(233) 5% ')\n",
    "ax1.plot(allSalesControl_95['MONTH_YEAR'],allSalesControl_95['TOT_SALES'], c='purple', label='Control Store(233) 95% ')\n",
    "plt.legend(loc='upper left')\n",
    "plt.show()"
   ]
  },
  {
   "cell_type": "markdown",
   "metadata": {},
   "source": [
    "Customers:"
   ]
  },
  {
   "cell_type": "code",
   "execution_count": 192,
   "metadata": {},
   "outputs": [],
   "source": [
    "trial_store = 77\n",
    "control_store = 233\n",
    "allCustomersTrial = measure_over_month_customers[['MONTH_YEAR','TOT_CUSTOMERS']][(measure_over_month_customers['STORE_NBR'] == trial_store)].reset_index(drop=True)\n",
    "allCustomersControl = measure_over_month_customers[['MONTH_YEAR','TOT_CUSTOMERS']][(measure_over_month_customers['STORE_NBR'] == control_store)].reset_index(drop=True)"
   ]
  },
  {
   "cell_type": "code",
   "execution_count": 196,
   "metadata": {},
   "outputs": [],
   "source": [
    "allCustomersControl_95 = allCustomersControl[['MONTH_YEAR']]\n",
    "allCustomersControl_05 = allCustomersControl[['MONTH_YEAR']]\n",
    "\n",
    "allCustomersControl_95['TOT_CUSTOMERS'] = allCustomersControl[['TOT_CUSTOMERS']]*(1 + standardDev_77_233 * 2)\n",
    "allCustomersControl_05['TOT_CUSTOMERS'] = allCustomersControl[['TOT_CUSTOMERS']]*(1 - standardDev_77_233 * 2)"
   ]
  },
  {
   "cell_type": "code",
   "execution_count": 197,
   "metadata": {
    "scrolled": false
   },
   "outputs": [
    {
     "data": {
      "image/png": "[encoded data removed]",
      "text/plain": [
       "<Figure size 864x720 with 1 Axes>"
      ]
     },
     "metadata": {
      "needs_background": "light"
     },
     "output_type": "display_data"
    }
   ],
   "source": [
    "fig = plt.figure(figsize=(12,10))\n",
    "ax1 = fig.add_subplot(111)\n",
    "\n",
    "ax1.plot(allCustomersTrial['MONTH_YEAR'], allCustomersTrial['TOT_CUSTOMERS'], c='b', label='Trial Store(77)')\n",
    "ax1.plot(allCustomersControl['MONTH_YEAR'],allCustomersControl['TOT_CUSTOMERS'], c='r', label='Control Store(233)')\n",
    "ax1.plot(allCustomersControl_05['MONTH_YEAR'],allCustomersControl_05['TOT_CUSTOMERS'], c='g', label='Control Store(233) 5% ')\n",
    "ax1.plot(allCustomersControl_95['MONTH_YEAR'],allCustomersControl_95['TOT_CUSTOMERS'], c='purple', label='Control Store(233) 95% ')\n",
    "plt.legend(loc='upper left')\n",
    "plt.show()"
   ]
  },
  {
   "cell_type": "markdown",
   "metadata": {},
   "source": [
    "Number of customers and sales are significantly higher than the control store in trial period."
   ]
  },
  {
   "cell_type": "markdown",
   "metadata": {},
   "source": [
    "Trial Store 86"
   ]
  },
  {
   "cell_type": "markdown",
   "metadata": {},
   "source": [
    "Correlation and Magnitude:"
   ]
  },
  {
   "cell_type": "code",
   "execution_count": 120,
   "metadata": {},
   "outputs": [],
   "source": [
    "metric = 'TOT_SALES'\n",
    "trial = 86\n",
    "corr_86Sales = pd.DataFrame({'STORE_NBR':pre_trial['STORE_NBR'].unique()})\n",
    "corr_86Sales['CORR_SALES'] = calculateCorrelation(pre_trial['STORE_NBR'].unique(),metric,trial)"
   ]
  },
  {
   "cell_type": "code",
   "execution_count": 121,
   "metadata": {},
   "outputs": [],
   "source": [
    "metric = 'TOT_CUSTOMERS'\n",
    "trial = 86\n",
    "corr_86Customers = pd.DataFrame({'STORE_NBR':pre_trial['STORE_NBR'].unique()})\n",
    "corr_86Customers['CORR_CUSTOMERS'] = calculateCorrelation(pre_trial['STORE_NBR'].unique(),metric,trial)"
   ]
  },
  {
   "cell_type": "code",
   "execution_count": 122,
   "metadata": {},
   "outputs": [],
   "source": [
    "metric = 'TOT_SALES'\n",
    "trial = 86\n",
    "months = ['2018-07','2018-08','2018-09','2018-10','2018-11','2018-12','2019-01']\n",
    "magnitude_86Sales = pd.DataFrame({'STORE_NBR':pre_trial['STORE_NBR']})\n",
    "magnitude_86Sales['MONTH_YEAR'] = pre_trial['MONTH_YEAR']\n",
    "magnitude_86Sales['MAG_SALES'] = calculateMagnitudeDistance(pre_trial['STORE_NBR'].unique(),metric,trial, months)"
   ]
  },
  {
   "cell_type": "code",
   "execution_count": 123,
   "metadata": {},
   "outputs": [],
   "source": [
    "metric = 'TOT_CUSTOMERS'\n",
    "trial = 86\n",
    "months = ['2018-07','2018-08','2018-09','2018-10','2018-11','2018-12','2019-01']\n",
    "magnitude_86Customers = pd.DataFrame({'STORE_NBR':pre_trial['STORE_NBR']})\n",
    "magnitude_86Customers['MONTH_YEAR'] = pre_trial['MONTH_YEAR']\n",
    "magnitude_86Customers['MAG_CUSTOMERS'] = calculateMagnitudeDistance(pre_trial['STORE_NBR'].unique(),metric,trial, months)"
   ]
  },
  {
   "cell_type": "code",
   "execution_count": 124,
   "metadata": {},
   "outputs": [],
   "source": [
    "months_list = ['2018-07','2018-08','2018-09','2018-10','2018-11','2018-12','2019-01']\n",
    "magnitude_86Sales['STD_SALES'] = calculateMinMax(magnitude_86Sales,magnitude_86Sales['STORE_NBR'].unique(),'MAG_SALES', months_list)"
   ]
  },
  {
   "cell_type": "code",
   "execution_count": 125,
   "metadata": {},
   "outputs": [],
   "source": [
    "months_list = ['2018-07','2018-08','2018-09','2018-10','2018-11','2018-12','2019-01']\n",
    "magnitude_86Customers['STD_CUSTOMERS'] = calculateMinMax(magnitude_86Customers,magnitude_86Customers['STORE_NBR'].unique(),'MAG_CUSTOMERS', months_list)"
   ]
  },
  {
   "cell_type": "markdown",
   "metadata": {},
   "source": [
    "Combined score composed of Correlation and Magnitude"
   ]
  },
  {
   "cell_type": "code",
   "execution_count": 126,
   "metadata": {},
   "outputs": [],
   "source": [
    "corr_metric = 'CORR_SALES'\n",
    "mag_metric = 'STD_SALES'\n",
    "months = ['2018-07','2018-08','2018-09','2018-10','2018-11','2018-12','2019-01']\n",
    "score_86Sales = pd.DataFrame({'STORE_NBR':pre_trial['STORE_NBR']})\n",
    "score_86Sales['MONTH_YEAR'] = pre_trial['MONTH_YEAR']\n",
    "score_86Sales['AVERAGE_SALES'] = combineValues(corr_86Sales,magnitude_86Sales,corr_metric,mag_metric,\n",
    "                                         magnitude_86Sales['STORE_NBR'].unique(), months)"
   ]
  },
  {
   "cell_type": "code",
   "execution_count": 127,
   "metadata": {},
   "outputs": [],
   "source": [
    "corr_metric = 'CORR_CUSTOMERS'\n",
    "mag_metric = 'STD_CUSTOMERS'\n",
    "months = ['2018-07','2018-08','2018-09','2018-10','2018-11','2018-12','2019-01']\n",
    "score_86Customers = pd.DataFrame({'STORE_NBR':pre_trial['STORE_NBR']})\n",
    "score_86Customers['MONTH_YEAR'] = pre_trial['MONTH_YEAR']\n",
    "score_86Customers['AVERAGE_CUSTOMERS'] = combineValues(corr_86Customers,magnitude_86Customers,corr_metric,mag_metric,\n",
    "                                         magnitude_86Customers['STORE_NBR'].unique(), months)"
   ]
  },
  {
   "cell_type": "code",
   "execution_count": 128,
   "metadata": {},
   "outputs": [
    {
     "data": {
      "text/html": [
       "<div>\n",
       "<style scoped>\n",
       "    .dataframe tbody tr th:only-of-type {\n",
       "        vertical-align: middle;\n",
       "    }\n",
       "\n",
       "    .dataframe tbody tr th {\n",
       "        vertical-align: top;\n",
       "    }\n",
       "\n",
       "    .dataframe thead th {\n",
       "        text-align: right;\n",
       "    }\n",
       "</style>\n",
       "<table border=\"1\" class=\"dataframe\">\n",
       "  <thead>\n",
       "    <tr style=\"text-align: right;\">\n",
       "      <th></th>\n",
       "      <th>STORE_NBR</th>\n",
       "      <th>MONTH_YEAR</th>\n",
       "      <th>AVERAGE_SALES</th>\n",
       "      <th>AVERAGE_CUSTOMERS</th>\n",
       "    </tr>\n",
       "  </thead>\n",
       "  <tbody>\n",
       "    <tr>\n",
       "      <th>0</th>\n",
       "      <td>1</td>\n",
       "      <td>2018-07</td>\n",
       "      <td>0.290592</td>\n",
       "      <td>0.439501</td>\n",
       "    </tr>\n",
       "    <tr>\n",
       "      <th>1</th>\n",
       "      <td>1</td>\n",
       "      <td>2018-08</td>\n",
       "      <td>0.292469</td>\n",
       "      <td>0.408856</td>\n",
       "    </tr>\n",
       "    <tr>\n",
       "      <th>2</th>\n",
       "      <td>1</td>\n",
       "      <td>2018-09</td>\n",
       "      <td>0.334347</td>\n",
       "      <td>0.472802</td>\n",
       "    </tr>\n",
       "    <tr>\n",
       "      <th>3</th>\n",
       "      <td>1</td>\n",
       "      <td>2018-10</td>\n",
       "      <td>0.274588</td>\n",
       "      <td>0.371801</td>\n",
       "    </tr>\n",
       "    <tr>\n",
       "      <th>4</th>\n",
       "      <td>1</td>\n",
       "      <td>2018-11</td>\n",
       "      <td>0.287018</td>\n",
       "      <td>0.417996</td>\n",
       "    </tr>\n",
       "  </tbody>\n",
       "</table>\n",
       "</div>"
      ],
      "text/plain": [
       "   STORE_NBR MONTH_YEAR  AVERAGE_SALES  AVERAGE_CUSTOMERS\n",
       "0          1    2018-07       0.290592           0.439501\n",
       "1          1    2018-08       0.292469           0.408856\n",
       "2          1    2018-09       0.334347           0.472802\n",
       "3          1    2018-10       0.274588           0.371801\n",
       "4          1    2018-11       0.287018           0.417996"
      ]
     },
     "execution_count": 128,
     "metadata": {},
     "output_type": "execute_result"
    }
   ],
   "source": [
    "score_86_Control = pd.merge(score_86Sales, score_86Customers, on=['STORE_NBR','MONTH_YEAR'],how='inner')\n",
    "score_86_Control.head()"
   ]
  },
  {
   "cell_type": "code",
   "execution_count": 129,
   "metadata": {
    "scrolled": false
   },
   "outputs": [
    {
     "data": {
      "text/html": [
       "<div>\n",
       "<style scoped>\n",
       "    .dataframe tbody tr th:only-of-type {\n",
       "        vertical-align: middle;\n",
       "    }\n",
       "\n",
       "    .dataframe tbody tr th {\n",
       "        vertical-align: top;\n",
       "    }\n",
       "\n",
       "    .dataframe thead th {\n",
       "        text-align: right;\n",
       "    }\n",
       "</style>\n",
       "<table border=\"1\" class=\"dataframe\">\n",
       "  <thead>\n",
       "    <tr style=\"text-align: right;\">\n",
       "      <th></th>\n",
       "      <th>STORE_NBR</th>\n",
       "      <th>MONTH_YEAR</th>\n",
       "      <th>AVERAGE_SALES</th>\n",
       "      <th>AVERAGE_CUSTOMERS</th>\n",
       "      <th>finalControlScore</th>\n",
       "    </tr>\n",
       "  </thead>\n",
       "  <tbody>\n",
       "    <tr>\n",
       "      <th>0</th>\n",
       "      <td>1</td>\n",
       "      <td>2018-07</td>\n",
       "      <td>0.290592</td>\n",
       "      <td>0.439501</td>\n",
       "      <td>0.365046</td>\n",
       "    </tr>\n",
       "    <tr>\n",
       "      <th>1</th>\n",
       "      <td>1</td>\n",
       "      <td>2018-08</td>\n",
       "      <td>0.292469</td>\n",
       "      <td>0.408856</td>\n",
       "      <td>0.350663</td>\n",
       "    </tr>\n",
       "    <tr>\n",
       "      <th>2</th>\n",
       "      <td>1</td>\n",
       "      <td>2018-09</td>\n",
       "      <td>0.334347</td>\n",
       "      <td>0.472802</td>\n",
       "      <td>0.403575</td>\n",
       "    </tr>\n",
       "    <tr>\n",
       "      <th>3</th>\n",
       "      <td>1</td>\n",
       "      <td>2018-10</td>\n",
       "      <td>0.274588</td>\n",
       "      <td>0.371801</td>\n",
       "      <td>0.323194</td>\n",
       "    </tr>\n",
       "    <tr>\n",
       "      <th>4</th>\n",
       "      <td>1</td>\n",
       "      <td>2018-11</td>\n",
       "      <td>0.287018</td>\n",
       "      <td>0.417996</td>\n",
       "      <td>0.352507</td>\n",
       "    </tr>\n",
       "  </tbody>\n",
       "</table>\n",
       "</div>"
      ],
      "text/plain": [
       "   STORE_NBR MONTH_YEAR  AVERAGE_SALES  AVERAGE_CUSTOMERS  finalControlScore\n",
       "0          1    2018-07       0.290592           0.439501           0.365046\n",
       "1          1    2018-08       0.292469           0.408856           0.350663\n",
       "2          1    2018-09       0.334347           0.472802           0.403575\n",
       "3          1    2018-10       0.274588           0.371801           0.323194\n",
       "4          1    2018-11       0.287018           0.417996           0.352507"
      ]
     },
     "execution_count": 129,
     "metadata": {},
     "output_type": "execute_result"
    }
   ],
   "source": [
    "score_86_Control['finalControlScore'] = 0.5*score_86_Control['AVERAGE_SALES'] + 0.5*score_86_Control['AVERAGE_CUSTOMERS']\n",
    "score_86_Control.head()"
   ]
  },
  {
   "cell_type": "code",
   "execution_count": 130,
   "metadata": {},
   "outputs": [],
   "source": [
    "avg_control_score_86 = {}\n",
    "control_stores = score_86_Control['STORE_NBR'].unique()\n",
    "for c in control_stores:\n",
    "    avg_control_score_86[c] = round(score_86_Control['finalControlScore'][(score_86_Control['STORE_NBR'] == c)].mean(),2)    "
   ]
  },
  {
   "cell_type": "markdown",
   "metadata": {},
   "source": [
    "Sort scores, the control score next to trial store(86) has similar trend to it."
   ]
  },
  {
   "cell_type": "code",
   "execution_count": 131,
   "metadata": {},
   "outputs": [
    {
     "name": "stdout",
     "output_type": "stream",
     "text": [
      "{146: -0.32, 42: -0.29, 120: -0.23, 192: -0.22, 52: -0.21, 135: -0.18, 185: -0.16, 51: -0.15, 108: -0.15, 254: -0.15, 267: -0.15, 127: -0.13, 149: -0.12, 174: -0.11, 256: -0.11, 258: -0.11, 41: -0.1, 161: -0.09, 214: -0.08, 27: -0.07, 224: -0.07, 21: -0.05, 96: -0.04, 68: -0.02, 111: -0.02, 115: -0.02, 2: -0.01, 35: -0.01, 264: -0.01, 16: -0.0, 151: 0.01, 233: 0.01, 29: 0.02, 243: 0.03, 37: 0.04, 238: 0.04, 186: 0.06, 195: 0.06, 268: 0.06, 77: 0.07, 245: 0.07, 270: 0.07, 23: 0.08, 124: 0.08, 141: 0.08, 143: 0.08, 265: 0.08, 53: 0.09, 142: 0.09, 263: 0.09, 14: 0.1, 50: 0.1, 66: 0.1, 175: 0.1, 191: 0.1, 239: 0.1, 47: 0.11, 63: 0.11, 150: 0.11, 187: 0.11, 9: 0.12, 121: 0.12, 99: 0.13, 173: 0.13, 38: 0.14, 140: 0.14, 154: 0.14, 8: 0.15, 82: 0.15, 103: 0.15, 126: 0.15, 248: 0.15, 244: 0.16, 266: 0.16, 12: 0.17, 200: 0.17, 205: 0.17, 215: 0.17, 158: 0.18, 17: 0.19, 139: 0.19, 167: 0.19, 182: 0.19, 197: 0.19, 204: 0.19, 230: 0.19, 234: 0.19, 250: 0.19, 272: 0.19, 118: 0.2, 131: 0.2, 159: 0.2, 164: 0.2, 199: 0.2, 20: 0.21, 48: 0.21, 98: 0.21, 136: 0.21, 235: 0.21, 253: 0.21, 90: 0.22, 163: 0.22, 189: 0.22, 209: 0.23, 236: 0.23, 19: 0.24, 69: 0.24, 87: 0.24, 156: 0.24, 188: 0.24, 259: 0.24, 129: 0.25, 169: 0.25, 198: 0.25, 251: 0.25, 61: 0.26, 83: 0.26, 84: 0.26, 107: 0.26, 180: 0.26, 221: 0.26, 15: 0.27, 39: 0.27, 65: 0.28, 216: 0.28, 249: 0.28, 28: 0.3, 94: 0.3, 102: 0.3, 110: 0.3, 113: 0.3, 171: 0.3, 60: 0.31, 152: 0.31, 165: 0.31, 237: 0.31, 261: 0.31, 30: 0.32, 45: 0.32, 46: 0.32, 54: 0.32, 71: 0.32, 4: 0.33, 73: 0.33, 81: 0.33, 119: 0.33, 210: 0.33, 34: 0.34, 148: 0.34, 255: 0.34, 1: 0.35, 132: 0.35, 74: 0.36, 89: 0.36, 104: 0.36, 10: 0.37, 22: 0.37, 40: 0.37, 95: 0.37, 162: 0.37, 257: 0.37, 70: 0.38, 242: 0.38, 18: 0.4, 24: 0.4, 220: 0.4, 246: 0.41, 105: 0.42, 67: 0.43, 88: 0.43, 123: 0.43, 202: 0.43, 72: 0.44, 134: 0.44, 130: 0.45, 226: 0.45, 43: 0.46, 64: 0.46, 122: 0.46, 144: 0.46, 170: 0.46, 179: 0.46, 3: 0.47, 7: 0.47, 26: 0.47, 57: 0.48, 145: 0.48, 183: 0.48, 228: 0.48, 25: 0.49, 176: 0.49, 190: 0.49, 213: 0.49, 240: 0.49, 6: 0.5, 13: 0.5, 49: 0.5, 97: 0.5, 100: 0.5, 55: 0.51, 160: 0.51, 196: 0.51, 247: 0.51, 91: 0.52, 112: 0.52, 125: 0.52, 203: 0.52, 217: 0.52, 116: 0.53, 133: 0.53, 212: 0.53, 201: 0.54, 33: 0.56, 58: 0.56, 157: 0.56, 219: 0.56, 93: 0.57, 153: 0.57, 168: 0.58, 227: 0.58, 5: 0.59, 59: 0.59, 137: 0.59, 178: 0.59, 207: 0.59, 62: 0.6, 208: 0.61, 262: 0.61, 36: 0.63, 79: 0.63, 101: 0.63, 260: 0.63, 181: 0.65, 184: 0.65, 194: 0.65, 32: 0.66, 271: 0.66, 166: 0.67, 75: 0.68, 80: 0.68, 222: 0.68, 232: 0.68, 109: 0.7, 229: 0.7, 241: 0.7, 106: 0.72, 172: 0.72, 269: 0.72, 223: 0.73, 231: 0.73, 78: 0.74, 147: 0.74, 225: 0.74, 128: 0.75, 56: 0.76, 138: 0.82, 114: 0.87, 155: 0.91, 86: 1.0}\n"
     ]
    }
   ],
   "source": [
    "avg_control_score_86 = {k: v for k, v in sorted(avg_control_score_86.items(), key=lambda item: item[1])}\n",
    "print(avg_control_score_86)"
   ]
  },
  {
   "cell_type": "markdown",
   "metadata": {},
   "source": [
    "I find control store 155 as the most similar to 86 trial store."
   ]
  },
  {
   "cell_type": "markdown",
   "metadata": {},
   "source": [
    "Visualize total sales of different store type(Pre trial)."
   ]
  },
  {
   "cell_type": "code",
   "execution_count": 132,
   "metadata": {},
   "outputs": [],
   "source": [
    "measure_over_month_sales = measure_over_month[['STORE_NBR','MONTH_YEAR','TOT_SALES']]"
   ]
  },
  {
   "cell_type": "code",
   "execution_count": 133,
   "metadata": {},
   "outputs": [],
   "source": [
    "trial_store = 86\n",
    "control_store = 155\n",
    "pastSalesTrial = measure_over_month_sales[['MONTH_YEAR','TOT_SALES']][(measure_over_month_sales['STORE_NBR'] == trial_store) & \n",
    "                                          (measure_over_month_sales['MONTH_YEAR'] < '2019-02')].reset_index(drop=True)\n",
    "pastSalesControl = measure_over_month_sales[['MONTH_YEAR','TOT_SALES']][(measure_over_month_sales['STORE_NBR'] == control_store) & \n",
    "                                            (measure_over_month_sales['MONTH_YEAR'] < '2019-02')].reset_index(drop=True)"
   ]
  },
  {
   "cell_type": "code",
   "execution_count": 134,
   "metadata": {},
   "outputs": [
    {
     "data": {
      "text/html": [
       "<div>\n",
       "<style scoped>\n",
       "    .dataframe tbody tr th:only-of-type {\n",
       "        vertical-align: middle;\n",
       "    }\n",
       "\n",
       "    .dataframe tbody tr th {\n",
       "        vertical-align: top;\n",
       "    }\n",
       "\n",
       "    .dataframe thead th {\n",
       "        text-align: right;\n",
       "    }\n",
       "</style>\n",
       "<table border=\"1\" class=\"dataframe\">\n",
       "  <thead>\n",
       "    <tr style=\"text-align: right;\">\n",
       "      <th></th>\n",
       "      <th>MONTH_YEAR</th>\n",
       "      <th>AVG_SALES</th>\n",
       "    </tr>\n",
       "  </thead>\n",
       "  <tbody>\n",
       "    <tr>\n",
       "      <th>0</th>\n",
       "      <td>2018-07</td>\n",
       "      <td>583.064504</td>\n",
       "    </tr>\n",
       "    <tr>\n",
       "      <th>1</th>\n",
       "      <td>2018-08</td>\n",
       "      <td>559.220307</td>\n",
       "    </tr>\n",
       "    <tr>\n",
       "      <th>2</th>\n",
       "      <td>2018-09</td>\n",
       "      <td>565.894275</td>\n",
       "    </tr>\n",
       "    <tr>\n",
       "      <th>3</th>\n",
       "      <td>2018-10</td>\n",
       "      <td>576.582890</td>\n",
       "    </tr>\n",
       "    <tr>\n",
       "      <th>4</th>\n",
       "      <td>2018-11</td>\n",
       "      <td>564.592748</td>\n",
       "    </tr>\n",
       "    <tr>\n",
       "      <th>5</th>\n",
       "      <td>2018-12</td>\n",
       "      <td>593.293487</td>\n",
       "    </tr>\n",
       "    <tr>\n",
       "      <th>6</th>\n",
       "      <td>2019-01</td>\n",
       "      <td>574.554023</td>\n",
       "    </tr>\n",
       "  </tbody>\n",
       "</table>\n",
       "</div>"
      ],
      "text/plain": [
       "  MONTH_YEAR   AVG_SALES\n",
       "0    2018-07  583.064504\n",
       "1    2018-08  559.220307\n",
       "2    2018-09  565.894275\n",
       "3    2018-10  576.582890\n",
       "4    2018-11  564.592748\n",
       "5    2018-12  593.293487\n",
       "6    2019-01  574.554023"
      ]
     },
     "execution_count": 134,
     "metadata": {},
     "output_type": "execute_result"
    }
   ],
   "source": [
    "months = ['2018-07','2018-08','2018-09','2018-10','2018-11','2018-12','2019-01']\n",
    "other_stores = np.setdiff1d(measure_over_month_sales['STORE_NBR'].unique(),[trial_store,control_store])\n",
    "pastSalesOthers = pd.DataFrame({'MONTH_YEAR':measure_over_month_sales['MONTH_YEAR'].unique()[0:7]})\n",
    "avg_sales = []\n",
    "\n",
    "for m in months:\n",
    "    measure = measure_over_month_sales['TOT_SALES'][(measure_over_month_sales['STORE_NBR'].isin(other_stores)) & \n",
    "                             (measure_over_month_sales['MONTH_YEAR'] == m)]\n",
    "    avg_sales.append(measure.mean())\n",
    "    \n",
    "pastSalesOthers['AVG_SALES'] = avg_sales\n",
    "pastSalesOthers"
   ]
  },
  {
   "cell_type": "code",
   "execution_count": 135,
   "metadata": {
    "scrolled": true
   },
   "outputs": [
    {
     "data": {
      "image/png": "[encoded data removed]",
      "text/plain": [
       "<Figure size 432x288 with 1 Axes>"
      ]
     },
     "metadata": {
      "needs_background": "light"
     },
     "output_type": "display_data"
    }
   ],
   "source": [
    "fig = plt.figure()\n",
    "ax1 = fig.add_subplot(111)\n",
    "\n",
    "ax1.scatter(pastSalesOthers['MONTH_YEAR'], pastSalesOthers['AVG_SALES'], s=10, c='b', marker=\"s\", label='Other Stores')\n",
    "ax1.scatter(pastSalesTrial['MONTH_YEAR'],pastSalesTrial['TOT_SALES'], s=10, c='r', marker=\"o\", label='Trial Store(86)')\n",
    "ax1.scatter(pastSalesControl['MONTH_YEAR'],pastSalesControl['TOT_SALES'], s=10, c='g', marker=\"o\", label='Control Store(155) ')\n",
    "plt.legend(loc='upper left')\n",
    "plt.show()"
   ]
  },
  {
   "cell_type": "markdown",
   "metadata": {},
   "source": [
    "Visualize number of customers per month(pre trial)"
   ]
  },
  {
   "cell_type": "code",
   "execution_count": 136,
   "metadata": {},
   "outputs": [],
   "source": [
    "measure_over_month_customers = measure_over_month[['STORE_NBR','MONTH_YEAR','TOT_CUSTOMERS']]"
   ]
  },
  {
   "cell_type": "code",
   "execution_count": 137,
   "metadata": {},
   "outputs": [],
   "source": [
    "trial_store = 86\n",
    "control_store = 155\n",
    "pastCustomersTrial = measure_over_month_customers[['MONTH_YEAR','TOT_CUSTOMERS']][(measure_over_month_customers['STORE_NBR'] == trial_store) & \n",
    "                                          (measure_over_month_customers['MONTH_YEAR'] < '2019-02')].reset_index(drop=True)\n",
    "pastCustomersControl = measure_over_month_customers[['MONTH_YEAR','TOT_CUSTOMERS']][(measure_over_month_customers['STORE_NBR'] == control_store) & \n",
    "                                            (measure_over_month_customers['MONTH_YEAR'] < '2019-02')].reset_index(drop=True)"
   ]
  },
  {
   "cell_type": "code",
   "execution_count": 138,
   "metadata": {},
   "outputs": [
    {
     "data": {
      "text/html": [
       "<div>\n",
       "<style scoped>\n",
       "    .dataframe tbody tr th:only-of-type {\n",
       "        vertical-align: middle;\n",
       "    }\n",
       "\n",
       "    .dataframe tbody tr th {\n",
       "        vertical-align: top;\n",
       "    }\n",
       "\n",
       "    .dataframe thead th {\n",
       "        text-align: right;\n",
       "    }\n",
       "</style>\n",
       "<table border=\"1\" class=\"dataframe\">\n",
       "  <thead>\n",
       "    <tr style=\"text-align: right;\">\n",
       "      <th></th>\n",
       "      <th>MONTH_YEAR</th>\n",
       "      <th>AVG_CUSTOMERS</th>\n",
       "    </tr>\n",
       "  </thead>\n",
       "  <tbody>\n",
       "    <tr>\n",
       "      <th>0</th>\n",
       "      <td>2018-07</td>\n",
       "      <td>66.828244</td>\n",
       "    </tr>\n",
       "    <tr>\n",
       "      <th>1</th>\n",
       "      <td>2018-08</td>\n",
       "      <td>66.900383</td>\n",
       "    </tr>\n",
       "    <tr>\n",
       "      <th>2</th>\n",
       "      <td>2018-09</td>\n",
       "      <td>64.961832</td>\n",
       "    </tr>\n",
       "    <tr>\n",
       "      <th>3</th>\n",
       "      <td>2018-10</td>\n",
       "      <td>65.878327</td>\n",
       "    </tr>\n",
       "    <tr>\n",
       "      <th>4</th>\n",
       "      <td>2018-11</td>\n",
       "      <td>65.103053</td>\n",
       "    </tr>\n",
       "    <tr>\n",
       "      <th>5</th>\n",
       "      <td>2018-12</td>\n",
       "      <td>67.984674</td>\n",
       "    </tr>\n",
       "    <tr>\n",
       "      <th>6</th>\n",
       "      <td>2019-01</td>\n",
       "      <td>65.984674</td>\n",
       "    </tr>\n",
       "  </tbody>\n",
       "</table>\n",
       "</div>"
      ],
      "text/plain": [
       "  MONTH_YEAR  AVG_CUSTOMERS\n",
       "0    2018-07      66.828244\n",
       "1    2018-08      66.900383\n",
       "2    2018-09      64.961832\n",
       "3    2018-10      65.878327\n",
       "4    2018-11      65.103053\n",
       "5    2018-12      67.984674\n",
       "6    2019-01      65.984674"
      ]
     },
     "execution_count": 138,
     "metadata": {},
     "output_type": "execute_result"
    }
   ],
   "source": [
    "months = ['2018-07','2018-08','2018-09','2018-10','2018-11','2018-12','2019-01']\n",
    "other_stores = np.setdiff1d(measure_over_month_customers['STORE_NBR'].unique(),[trial_store,control_store])\n",
    "pastCustomersOthers = pd.DataFrame({'MONTH_YEAR':measure_over_month_customers['MONTH_YEAR'].unique()[0:7]})\n",
    "avg_customers = []\n",
    "\n",
    "for m in months:\n",
    "    measure = measure_over_month_customers['TOT_CUSTOMERS'][(measure_over_month_customers['STORE_NBR'].isin(other_stores)) & \n",
    "                             (measure_over_month_customers['MONTH_YEAR'] == m)]\n",
    "    avg_customers.append(measure.mean())\n",
    "    \n",
    "pastCustomersOthers['AVG_CUSTOMERS'] = avg_customers\n",
    "pastCustomersOthers"
   ]
  },
  {
   "cell_type": "code",
   "execution_count": 139,
   "metadata": {
    "scrolled": true
   },
   "outputs": [
    {
     "data": {
      "image/png": "[encoded data removed]",
      "text/plain": [
       "<Figure size 432x288 with 1 Axes>"
      ]
     },
     "metadata": {
      "needs_background": "light"
     },
     "output_type": "display_data"
    }
   ],
   "source": [
    "fig = plt.figure()\n",
    "ax1 = fig.add_subplot(111)\n",
    "\n",
    "ax1.scatter(pastCustomersOthers['MONTH_YEAR'], pastCustomersOthers['AVG_CUSTOMERS'], s=10, c='b', marker=\"s\", label='Other Stores')\n",
    "ax1.scatter(pastCustomersTrial['MONTH_YEAR'],pastCustomersTrial['TOT_CUSTOMERS'], s=10, c='r', marker=\"o\", label='Trial Store(86)')\n",
    "ax1.scatter(pastCustomersControl['MONTH_YEAR'],pastCustomersControl['TOT_CUSTOMERS'], s=10, c='g', marker=\"o\", label='Control Store(155) ')\n",
    "plt.legend(loc='upper left')\n",
    "plt.show()"
   ]
  },
  {
   "cell_type": "markdown",
   "metadata": {},
   "source": [
    "Comparison of results in trial period."
   ]
  },
  {
   "cell_type": "code",
   "execution_count": 140,
   "metadata": {},
   "outputs": [
    {
     "data": {
      "text/plain": [
       "0.9720493769183034"
      ]
     },
     "execution_count": 140,
     "metadata": {},
     "output_type": "execute_result"
    }
   ],
   "source": [
    "scaling_factor = pastSalesTrial['TOT_SALES'].sum()/pastSalesControl['TOT_SALES'].sum()\n",
    "scaling_factor"
   ]
  },
  {
   "cell_type": "code",
   "execution_count": 141,
   "metadata": {},
   "outputs": [
    {
     "data": {
      "text/html": [
       "<div>\n",
       "<style scoped>\n",
       "    .dataframe tbody tr th:only-of-type {\n",
       "        vertical-align: middle;\n",
       "    }\n",
       "\n",
       "    .dataframe tbody tr th {\n",
       "        vertical-align: top;\n",
       "    }\n",
       "\n",
       "    .dataframe thead th {\n",
       "        text-align: right;\n",
       "    }\n",
       "</style>\n",
       "<table border=\"1\" class=\"dataframe\">\n",
       "  <thead>\n",
       "    <tr style=\"text-align: right;\">\n",
       "      <th></th>\n",
       "      <th>MONTH_YEAR</th>\n",
       "      <th>CONTROL_SALES</th>\n",
       "    </tr>\n",
       "  </thead>\n",
       "  <tbody>\n",
       "    <tr>\n",
       "      <th>0</th>\n",
       "      <td>2018-07</td>\n",
       "      <td>875.427669</td>\n",
       "    </tr>\n",
       "    <tr>\n",
       "      <th>1</th>\n",
       "      <td>2018-08</td>\n",
       "      <td>718.052875</td>\n",
       "    </tr>\n",
       "    <tr>\n",
       "      <th>2</th>\n",
       "      <td>2018-09</td>\n",
       "      <td>913.337595</td>\n",
       "    </tr>\n",
       "    <tr>\n",
       "      <th>3</th>\n",
       "      <td>2018-10</td>\n",
       "      <td>888.453131</td>\n",
       "    </tr>\n",
       "    <tr>\n",
       "      <th>4</th>\n",
       "      <td>2018-11</td>\n",
       "      <td>811.661230</td>\n",
       "    </tr>\n",
       "    <tr>\n",
       "      <th>5</th>\n",
       "      <td>2018-12</td>\n",
       "      <td>777.445092</td>\n",
       "    </tr>\n",
       "    <tr>\n",
       "      <th>6</th>\n",
       "      <td>2019-01</td>\n",
       "      <td>811.272410</td>\n",
       "    </tr>\n",
       "    <tr>\n",
       "      <th>7</th>\n",
       "      <td>2019-02</td>\n",
       "      <td>827.019610</td>\n",
       "    </tr>\n",
       "    <tr>\n",
       "      <th>8</th>\n",
       "      <td>2019-03</td>\n",
       "      <td>745.561872</td>\n",
       "    </tr>\n",
       "    <tr>\n",
       "      <th>9</th>\n",
       "      <td>2019-04</td>\n",
       "      <td>778.028321</td>\n",
       "    </tr>\n",
       "    <tr>\n",
       "      <th>10</th>\n",
       "      <td>2019-05</td>\n",
       "      <td>839.121625</td>\n",
       "    </tr>\n",
       "    <tr>\n",
       "      <th>11</th>\n",
       "      <td>2019-06</td>\n",
       "      <td>739.535166</td>\n",
       "    </tr>\n",
       "  </tbody>\n",
       "</table>\n",
       "</div>"
      ],
      "text/plain": [
       "   MONTH_YEAR  CONTROL_SALES\n",
       "0     2018-07     875.427669\n",
       "1     2018-08     718.052875\n",
       "2     2018-09     913.337595\n",
       "3     2018-10     888.453131\n",
       "4     2018-11     811.661230\n",
       "5     2018-12     777.445092\n",
       "6     2019-01     811.272410\n",
       "7     2019-02     827.019610\n",
       "8     2019-03     745.561872\n",
       "9     2019-04     778.028321\n",
       "10    2019-05     839.121625\n",
       "11    2019-06     739.535166"
      ]
     },
     "execution_count": 141,
     "metadata": {},
     "output_type": "execute_result"
    }
   ],
   "source": [
    "salesControl_155 = pd.DataFrame({'MONTH_YEAR':measure_over_month_sales['MONTH_YEAR'].unique()})\n",
    "salesControl_155['CONTROL_SALES'] = measure_over_month_sales[['TOT_SALES']][measure_over_month_sales['STORE_NBR'] == control_store].reset_index(drop=True) * scaling_factor\n",
    "salesControl_155"
   ]
  },
  {
   "cell_type": "code",
   "execution_count": 142,
   "metadata": {},
   "outputs": [
    {
     "data": {
      "text/html": [
       "<div>\n",
       "<style scoped>\n",
       "    .dataframe tbody tr th:only-of-type {\n",
       "        vertical-align: middle;\n",
       "    }\n",
       "\n",
       "    .dataframe tbody tr th {\n",
       "        vertical-align: top;\n",
       "    }\n",
       "\n",
       "    .dataframe thead th {\n",
       "        text-align: right;\n",
       "    }\n",
       "</style>\n",
       "<table border=\"1\" class=\"dataframe\">\n",
       "  <thead>\n",
       "    <tr style=\"text-align: right;\">\n",
       "      <th></th>\n",
       "      <th>MONTH_YEAR</th>\n",
       "      <th>%Diff</th>\n",
       "    </tr>\n",
       "  </thead>\n",
       "  <tbody>\n",
       "    <tr>\n",
       "      <th>0</th>\n",
       "      <td>2018-07</td>\n",
       "      <td>0.027904</td>\n",
       "    </tr>\n",
       "    <tr>\n",
       "      <th>1</th>\n",
       "      <td>2018-08</td>\n",
       "      <td>0.012251</td>\n",
       "    </tr>\n",
       "    <tr>\n",
       "      <th>2</th>\n",
       "      <td>2018-09</td>\n",
       "      <td>0.063873</td>\n",
       "    </tr>\n",
       "    <tr>\n",
       "      <th>3</th>\n",
       "      <td>2018-10</td>\n",
       "      <td>0.011646</td>\n",
       "    </tr>\n",
       "    <tr>\n",
       "      <th>4</th>\n",
       "      <td>2018-11</td>\n",
       "      <td>0.048713</td>\n",
       "    </tr>\n",
       "    <tr>\n",
       "      <th>5</th>\n",
       "      <td>2018-12</td>\n",
       "      <td>0.044704</td>\n",
       "    </tr>\n",
       "    <tr>\n",
       "      <th>6</th>\n",
       "      <td>2019-01</td>\n",
       "      <td>0.013155</td>\n",
       "    </tr>\n",
       "    <tr>\n",
       "      <th>7</th>\n",
       "      <td>2019-02</td>\n",
       "      <td>0.055356</td>\n",
       "    </tr>\n",
       "    <tr>\n",
       "      <th>8</th>\n",
       "      <td>2019-03</td>\n",
       "      <td>0.268037</td>\n",
       "    </tr>\n",
       "    <tr>\n",
       "      <th>9</th>\n",
       "      <td>2019-04</td>\n",
       "      <td>0.033381</td>\n",
       "    </tr>\n",
       "    <tr>\n",
       "      <th>10</th>\n",
       "      <td>2019-05</td>\n",
       "      <td>0.014565</td>\n",
       "    </tr>\n",
       "    <tr>\n",
       "      <th>11</th>\n",
       "      <td>2019-06</td>\n",
       "      <td>0.035786</td>\n",
       "    </tr>\n",
       "  </tbody>\n",
       "</table>\n",
       "</div>"
      ],
      "text/plain": [
       "   MONTH_YEAR     %Diff\n",
       "0     2018-07  0.027904\n",
       "1     2018-08  0.012251\n",
       "2     2018-09  0.063873\n",
       "3     2018-10  0.011646\n",
       "4     2018-11  0.048713\n",
       "5     2018-12  0.044704\n",
       "6     2019-01  0.013155\n",
       "7     2019-02  0.055356\n",
       "8     2019-03  0.268037\n",
       "9     2019-04  0.033381\n",
       "10    2019-05  0.014565\n",
       "11    2019-06  0.035786"
      ]
     },
     "execution_count": 142,
     "metadata": {},
     "output_type": "execute_result"
    }
   ],
   "source": [
    "percentageDiff_86_155 = pd.DataFrame({'MONTH_YEAR':measure_over_month_sales['MONTH_YEAR'].unique()})\n",
    "salesTrial_86 = measure_over_month_sales[['TOT_SALES']][(measure_over_month_sales['STORE_NBR'] == trial_store)].reset_index(drop=True)\n",
    "percentageDiff_86_155['%Diff'] = abs(salesControl_155['CONTROL_SALES'] - salesTrial_86['TOT_SALES'])/salesControl_155['CONTROL_SALES']\n",
    "percentageDiff_86_155"
   ]
  },
  {
   "cell_type": "markdown",
   "metadata": {},
   "source": [
    " As our null hypothesis is that the trial period is the same as the pre-trial\n",
    "period, let's take the standard deviation based on the scaled percentage difference\n",
    "in the pre-trial period "
   ]
  },
  {
   "cell_type": "code",
   "execution_count": 143,
   "metadata": {},
   "outputs": [
    {
     "data": {
      "text/plain": [
       "0.02094588844624414"
      ]
     },
     "execution_count": 143,
     "metadata": {},
     "output_type": "execute_result"
    }
   ],
   "source": [
    "standardDev_86_155 = percentageDiff_86_155['%Diff'][percentageDiff_86_155['MONTH_YEAR'] < '2019-02'].std()\n",
    "standardDev_86_155"
   ]
  },
  {
   "cell_type": "code",
   "execution_count": 144,
   "metadata": {},
   "outputs": [],
   "source": [
    "months = ['2019-02','2019-03','2019-04']\n",
    "stores_TValues_86_155 = pd.DataFrame({'TRANSACTION_MONTH':months})\n",
    "tvalues = []\n",
    "for m in months:\n",
    "    tvalues.append((percentageDiff_86_155['%Diff'][percentageDiff_86_155['MONTH_YEAR'] == m].values[0] - 0)/standardDev_86_155)\n",
    "stores_TValues_86_155['TVALUE'] = tvalues"
   ]
  },
  {
   "cell_type": "code",
   "execution_count": 145,
   "metadata": {
    "scrolled": false
   },
   "outputs": [
    {
     "data": {
      "text/html": [
       "<div>\n",
       "<style scoped>\n",
       "    .dataframe tbody tr th:only-of-type {\n",
       "        vertical-align: middle;\n",
       "    }\n",
       "\n",
       "    .dataframe tbody tr th {\n",
       "        vertical-align: top;\n",
       "    }\n",
       "\n",
       "    .dataframe thead th {\n",
       "        text-align: right;\n",
       "    }\n",
       "</style>\n",
       "<table border=\"1\" class=\"dataframe\">\n",
       "  <thead>\n",
       "    <tr style=\"text-align: right;\">\n",
       "      <th></th>\n",
       "      <th>TRANSACTION_MONTH</th>\n",
       "      <th>TVALUE</th>\n",
       "    </tr>\n",
       "  </thead>\n",
       "  <tbody>\n",
       "    <tr>\n",
       "      <th>0</th>\n",
       "      <td>2019-02</td>\n",
       "      <td>2.642804</td>\n",
       "    </tr>\n",
       "    <tr>\n",
       "      <th>1</th>\n",
       "      <td>2019-03</td>\n",
       "      <td>12.796638</td>\n",
       "    </tr>\n",
       "    <tr>\n",
       "      <th>2</th>\n",
       "      <td>2019-04</td>\n",
       "      <td>1.593697</td>\n",
       "    </tr>\n",
       "  </tbody>\n",
       "</table>\n",
       "</div>"
      ],
      "text/plain": [
       "  TRANSACTION_MONTH     TVALUE\n",
       "0           2019-02   2.642804\n",
       "1           2019-03  12.796638\n",
       "2           2019-04   1.593697"
      ]
     },
     "execution_count": 145,
     "metadata": {},
     "output_type": "execute_result"
    }
   ],
   "source": [
    "stores_TValues_86_155.head()"
   ]
  },
  {
   "cell_type": "markdown",
   "metadata": {},
   "source": [
    "Sales:"
   ]
  },
  {
   "cell_type": "code",
   "execution_count": 198,
   "metadata": {},
   "outputs": [],
   "source": [
    "trial_store = 86\n",
    "control_store = 155\n",
    "allSalesTrial = measure_over_month_sales[['MONTH_YEAR','TOT_SALES']][(measure_over_month_sales['STORE_NBR'] == trial_store)].reset_index(drop=True)\n",
    "allSalesControl = measure_over_month_sales[['MONTH_YEAR','TOT_SALES']][(measure_over_month_sales['STORE_NBR'] == control_store)].reset_index(drop=True)"
   ]
  },
  {
   "cell_type": "code",
   "execution_count": 199,
   "metadata": {},
   "outputs": [],
   "source": [
    "allSalesControl_95['MONTH_YEAR'] = allSalesControl[['MONTH_YEAR']]\n",
    "allSalesControl_05 = allSalesControl[['MONTH_YEAR']]\n",
    "\n",
    "allSalesControl_95['TOT_SALES'] = allSalesControl[['TOT_SALES']]*(1 + standardDev_86_155 * 2)\n",
    "allSalesControl_05['TOT_SALES'] = allSalesControl[['TOT_SALES']]*(1 - standardDev_86_155 * 2)"
   ]
  },
  {
   "cell_type": "code",
   "execution_count": 200,
   "metadata": {
    "scrolled": true
   },
   "outputs": [
    {
     "data": {
      "image/png": "[encoded data removed]",
      "text/plain": [
       "<Figure size 864x720 with 1 Axes>"
      ]
     },
     "metadata": {
      "needs_background": "light"
     },
     "output_type": "display_data"
    }
   ],
   "source": [
    "fig = plt.figure(figsize=(12,10))\n",
    "ax1 = fig.add_subplot(111)\n",
    "\n",
    "ax1.plot(allSalesTrial['MONTH_YEAR'], allSalesTrial['TOT_SALES'], c='b', label='Trial Store(86)')\n",
    "ax1.plot(allSalesControl['MONTH_YEAR'],allSalesControl['TOT_SALES'], c='r', label='Control Store(155)')\n",
    "ax1.plot(allSalesControl_05['MONTH_YEAR'],allSalesControl_05['TOT_SALES'], c='g', label='Control Store(155) 5% ')\n",
    "ax1.plot(allSalesControl_95['MONTH_YEAR'],allSalesControl_95['TOT_SALES'], c='purple', label='Control Store(155) 95% ')\n",
    "plt.legend(loc='upper left')\n",
    "plt.show()"
   ]
  },
  {
   "cell_type": "markdown",
   "metadata": {},
   "source": [
    "Customers:"
   ]
  },
  {
   "cell_type": "code",
   "execution_count": 201,
   "metadata": {},
   "outputs": [],
   "source": [
    "trial_store = 86\n",
    "control_store = 155\n",
    "allCustomersTrial = measure_over_month_customers[['MONTH_YEAR','TOT_CUSTOMERS']][(measure_over_month_customers['STORE_NBR'] == trial_store)].reset_index(drop=True)\n",
    "allCustomersControl = measure_over_month_customers[['MONTH_YEAR','TOT_CUSTOMERS']][(measure_over_month_customers['STORE_NBR'] == control_store)].reset_index(drop=True)"
   ]
  },
  {
   "cell_type": "code",
   "execution_count": 202,
   "metadata": {},
   "outputs": [],
   "source": [
    "allCustomersControl_95 = allCustomersControl[['MONTH_YEAR']]\n",
    "allCustomersControl_05 = allCustomersControl[['MONTH_YEAR']]\n",
    "\n",
    "allCustomersControl_95['TOT_CUSTOMERS'] = allCustomersControl[['TOT_CUSTOMERS']]*(1 + standardDev_86_155 * 2)\n",
    "allCustomersControl_05['TOT_CUSTOMERS'] = allCustomersControl[['TOT_CUSTOMERS']]*(1 - standardDev_86_155 * 2)"
   ]
  },
  {
   "cell_type": "code",
   "execution_count": 203,
   "metadata": {
    "scrolled": false
   },
   "outputs": [
    {
     "data": {
      "image/png": "[encoded data removed]",
      "text/plain": [
       "<Figure size 864x720 with 1 Axes>"
      ]
     },
     "metadata": {
      "needs_background": "light"
     },
     "output_type": "display_data"
    }
   ],
   "source": [
    "fig = plt.figure(figsize=(12,10))\n",
    "ax1 = fig.add_subplot(111)\n",
    "\n",
    "ax1.plot(allCustomersTrial['MONTH_YEAR'], allCustomersTrial['TOT_CUSTOMERS'], c='b', label='Trial Store(86)')\n",
    "ax1.plot(allCustomersControl['MONTH_YEAR'],allCustomersControl['TOT_CUSTOMERS'], c='r', label='Control Store(155)')\n",
    "ax1.plot(allCustomersControl_05['MONTH_YEAR'],allCustomersControl_05['TOT_CUSTOMERS'], c='g', label='Control Store(155) 5% ')\n",
    "ax1.plot(allCustomersControl_95['MONTH_YEAR'],allCustomersControl_95['TOT_CUSTOMERS'], c='purple', label='Control Store(155) 95% ')\n",
    "plt.legend(loc='upper left')\n",
    "plt.show()"
   ]
  },
  {
   "cell_type": "markdown",
   "metadata": {},
   "source": [
    "Number of customers are significantly higher than the control store in trial period but the sales in both control and trial store are quite similar."
   ]
  },
  {
   "cell_type": "markdown",
   "metadata": {},
   "source": [
    "Trial Store 88"
   ]
  },
  {
   "cell_type": "markdown",
   "metadata": {},
   "source": [
    "Correlation and Magnitude:"
   ]
  },
  {
   "cell_type": "code",
   "execution_count": 146,
   "metadata": {},
   "outputs": [],
   "source": [
    "metric = 'TOT_SALES'\n",
    "trial = 88\n",
    "corr_88Sales = pd.DataFrame({'STORE_NBR':pre_trial['STORE_NBR'].unique()})\n",
    "corr_88Sales['CORR_SALES'] = calculateCorrelation(pre_trial['STORE_NBR'].unique(),metric,trial)"
   ]
  },
  {
   "cell_type": "code",
   "execution_count": 147,
   "metadata": {},
   "outputs": [],
   "source": [
    "metric = 'TOT_CUSTOMERS'\n",
    "trial = 88\n",
    "corr_88Customers = pd.DataFrame({'STORE_NBR':pre_trial['STORE_NBR'].unique()})\n",
    "corr_88Customers['CORR_CUSTOMERS'] = calculateCorrelation(pre_trial['STORE_NBR'].unique(),metric,trial)"
   ]
  },
  {
   "cell_type": "code",
   "execution_count": 148,
   "metadata": {},
   "outputs": [],
   "source": [
    "metric = 'TOT_SALES'\n",
    "trial = 88\n",
    "months = ['2018-07','2018-08','2018-09','2018-10','2018-11','2018-12','2019-01']\n",
    "magnitude_88Sales = pd.DataFrame({'STORE_NBR':pre_trial['STORE_NBR']})\n",
    "magnitude_88Sales['MONTH_YEAR'] = pre_trial['MONTH_YEAR']\n",
    "magnitude_88Sales['MAG_SALES'] = calculateMagnitudeDistance(pre_trial['STORE_NBR'].unique(),metric,trial, months)"
   ]
  },
  {
   "cell_type": "code",
   "execution_count": 149,
   "metadata": {},
   "outputs": [],
   "source": [
    "metric = 'TOT_CUSTOMERS'\n",
    "trial = 88\n",
    "months = ['2018-07','2018-08','2018-09','2018-10','2018-11','2018-12','2019-01']\n",
    "magnitude_88Customers = pd.DataFrame({'STORE_NBR':pre_trial['STORE_NBR']})\n",
    "magnitude_88Customers['MONTH_YEAR'] = pre_trial['MONTH_YEAR']\n",
    "magnitude_88Customers['MAG_CUSTOMERS'] = calculateMagnitudeDistance(pre_trial['STORE_NBR'].unique(),metric,trial, months)"
   ]
  },
  {
   "cell_type": "code",
   "execution_count": 150,
   "metadata": {},
   "outputs": [],
   "source": [
    "months_list = ['2018-07','2018-08','2018-09','2018-10','2018-11','2018-12','2019-01']\n",
    "magnitude_88Sales['STD_SALES'] = calculateMinMax(magnitude_88Sales,magnitude_88Sales['STORE_NBR'].unique(),'MAG_SALES', months_list)"
   ]
  },
  {
   "cell_type": "code",
   "execution_count": 151,
   "metadata": {},
   "outputs": [],
   "source": [
    "months_list = ['2018-07','2018-08','2018-09','2018-10','2018-11','2018-12','2019-01']\n",
    "magnitude_88Customers['STD_CUSTOMERS'] = calculateMinMax(magnitude_88Customers,magnitude_88Customers['STORE_NBR'].unique(),'MAG_CUSTOMERS', months_list)"
   ]
  },
  {
   "cell_type": "markdown",
   "metadata": {},
   "source": [
    "Combined score composed of Correlation and Magnitude"
   ]
  },
  {
   "cell_type": "code",
   "execution_count": 152,
   "metadata": {},
   "outputs": [],
   "source": [
    "corr_metric = 'CORR_SALES'\n",
    "mag_metric = 'STD_SALES'\n",
    "months = ['2018-07','2018-08','2018-09','2018-10','2018-11','2018-12','2019-01']\n",
    "score_88Sales = pd.DataFrame({'STORE_NBR':pre_trial['STORE_NBR']})\n",
    "score_88Sales['MONTH_YEAR'] = pre_trial['MONTH_YEAR']\n",
    "score_88Sales['AVERAGE_SALES'] = combineValues(corr_88Sales,magnitude_88Sales,corr_metric,mag_metric,\n",
    "                                         magnitude_88Sales['STORE_NBR'].unique(), months)"
   ]
  },
  {
   "cell_type": "code",
   "execution_count": 153,
   "metadata": {},
   "outputs": [],
   "source": [
    "corr_metric = 'CORR_CUSTOMERS'\n",
    "mag_metric = 'STD_CUSTOMERS'\n",
    "months = ['2018-07','2018-08','2018-09','2018-10','2018-11','2018-12','2019-01']\n",
    "score_88Customers = pd.DataFrame({'STORE_NBR':pre_trial['STORE_NBR']})\n",
    "score_88Customers['MONTH_YEAR'] = pre_trial['MONTH_YEAR']\n",
    "score_88Customers['AVERAGE_CUSTOMERS'] = combineValues(corr_88Customers,magnitude_88Customers,corr_metric,mag_metric,\n",
    "                                         magnitude_88Customers['STORE_NBR'].unique(), months)"
   ]
  },
  {
   "cell_type": "code",
   "execution_count": 154,
   "metadata": {},
   "outputs": [
    {
     "data": {
      "text/html": [
       "<div>\n",
       "<style scoped>\n",
       "    .dataframe tbody tr th:only-of-type {\n",
       "        vertical-align: middle;\n",
       "    }\n",
       "\n",
       "    .dataframe tbody tr th {\n",
       "        vertical-align: top;\n",
       "    }\n",
       "\n",
       "    .dataframe thead th {\n",
       "        text-align: right;\n",
       "    }\n",
       "</style>\n",
       "<table border=\"1\" class=\"dataframe\">\n",
       "  <thead>\n",
       "    <tr style=\"text-align: right;\">\n",
       "      <th></th>\n",
       "      <th>STORE_NBR</th>\n",
       "      <th>MONTH_YEAR</th>\n",
       "      <th>AVERAGE_SALES</th>\n",
       "      <th>AVERAGE_CUSTOMERS</th>\n",
       "    </tr>\n",
       "  </thead>\n",
       "  <tbody>\n",
       "    <tr>\n",
       "      <th>0</th>\n",
       "      <td>1</td>\n",
       "      <td>2018-07</td>\n",
       "      <td>0.496558</td>\n",
       "      <td>0.401980</td>\n",
       "    </tr>\n",
       "    <tr>\n",
       "      <th>1</th>\n",
       "      <td>1</td>\n",
       "      <td>2018-08</td>\n",
       "      <td>0.485144</td>\n",
       "      <td>0.373525</td>\n",
       "    </tr>\n",
       "    <tr>\n",
       "      <th>2</th>\n",
       "      <td>1</td>\n",
       "      <td>2018-09</td>\n",
       "      <td>0.516042</td>\n",
       "      <td>0.446081</td>\n",
       "    </tr>\n",
       "    <tr>\n",
       "      <th>3</th>\n",
       "      <td>1</td>\n",
       "      <td>2018-10</td>\n",
       "      <td>0.486088</td>\n",
       "      <td>0.371768</td>\n",
       "    </tr>\n",
       "    <tr>\n",
       "      <th>4</th>\n",
       "      <td>1</td>\n",
       "      <td>2018-11</td>\n",
       "      <td>0.488806</td>\n",
       "      <td>0.388542</td>\n",
       "    </tr>\n",
       "  </tbody>\n",
       "</table>\n",
       "</div>"
      ],
      "text/plain": [
       "   STORE_NBR MONTH_YEAR  AVERAGE_SALES  AVERAGE_CUSTOMERS\n",
       "0          1    2018-07       0.496558           0.401980\n",
       "1          1    2018-08       0.485144           0.373525\n",
       "2          1    2018-09       0.516042           0.446081\n",
       "3          1    2018-10       0.486088           0.371768\n",
       "4          1    2018-11       0.488806           0.388542"
      ]
     },
     "execution_count": 154,
     "metadata": {},
     "output_type": "execute_result"
    }
   ],
   "source": [
    "score_88_Control = pd.merge(score_88Sales, score_88Customers, on=['STORE_NBR','MONTH_YEAR'],how='inner')\n",
    "score_88_Control.head()"
   ]
  },
  {
   "cell_type": "code",
   "execution_count": 155,
   "metadata": {
    "scrolled": false
   },
   "outputs": [
    {
     "data": {
      "text/html": [
       "<div>\n",
       "<style scoped>\n",
       "    .dataframe tbody tr th:only-of-type {\n",
       "        vertical-align: middle;\n",
       "    }\n",
       "\n",
       "    .dataframe tbody tr th {\n",
       "        vertical-align: top;\n",
       "    }\n",
       "\n",
       "    .dataframe thead th {\n",
       "        text-align: right;\n",
       "    }\n",
       "</style>\n",
       "<table border=\"1\" class=\"dataframe\">\n",
       "  <thead>\n",
       "    <tr style=\"text-align: right;\">\n",
       "      <th></th>\n",
       "      <th>STORE_NBR</th>\n",
       "      <th>MONTH_YEAR</th>\n",
       "      <th>AVERAGE_SALES</th>\n",
       "      <th>AVERAGE_CUSTOMERS</th>\n",
       "      <th>finalControlScore</th>\n",
       "    </tr>\n",
       "  </thead>\n",
       "  <tbody>\n",
       "    <tr>\n",
       "      <th>0</th>\n",
       "      <td>1</td>\n",
       "      <td>2018-07</td>\n",
       "      <td>0.496558</td>\n",
       "      <td>0.401980</td>\n",
       "      <td>0.449269</td>\n",
       "    </tr>\n",
       "    <tr>\n",
       "      <th>1</th>\n",
       "      <td>1</td>\n",
       "      <td>2018-08</td>\n",
       "      <td>0.485144</td>\n",
       "      <td>0.373525</td>\n",
       "      <td>0.429334</td>\n",
       "    </tr>\n",
       "    <tr>\n",
       "      <th>2</th>\n",
       "      <td>1</td>\n",
       "      <td>2018-09</td>\n",
       "      <td>0.516042</td>\n",
       "      <td>0.446081</td>\n",
       "      <td>0.481062</td>\n",
       "    </tr>\n",
       "    <tr>\n",
       "      <th>3</th>\n",
       "      <td>1</td>\n",
       "      <td>2018-10</td>\n",
       "      <td>0.486088</td>\n",
       "      <td>0.371768</td>\n",
       "      <td>0.428928</td>\n",
       "    </tr>\n",
       "    <tr>\n",
       "      <th>4</th>\n",
       "      <td>1</td>\n",
       "      <td>2018-11</td>\n",
       "      <td>0.488806</td>\n",
       "      <td>0.388542</td>\n",
       "      <td>0.438674</td>\n",
       "    </tr>\n",
       "  </tbody>\n",
       "</table>\n",
       "</div>"
      ],
      "text/plain": [
       "   STORE_NBR MONTH_YEAR  AVERAGE_SALES  AVERAGE_CUSTOMERS  finalControlScore\n",
       "0          1    2018-07       0.496558           0.401980           0.449269\n",
       "1          1    2018-08       0.485144           0.373525           0.429334\n",
       "2          1    2018-09       0.516042           0.446081           0.481062\n",
       "3          1    2018-10       0.486088           0.371768           0.428928\n",
       "4          1    2018-11       0.488806           0.388542           0.438674"
      ]
     },
     "execution_count": 155,
     "metadata": {},
     "output_type": "execute_result"
    }
   ],
   "source": [
    "score_88_Control['finalControlScore'] = 0.5*score_88_Control['AVERAGE_SALES'] + 0.5*score_88_Control['AVERAGE_CUSTOMERS']\n",
    "score_88_Control.head()"
   ]
  },
  {
   "cell_type": "code",
   "execution_count": 156,
   "metadata": {},
   "outputs": [],
   "source": [
    "avg_control_score_88 = {}\n",
    "control_stores = score_88_Control['STORE_NBR'].unique()\n",
    "for c in control_stores:\n",
    "    avg_control_score_88[c] = round(score_88_Control['finalControlScore'][(score_88_Control['STORE_NBR'] == c)].mean(),2)    "
   ]
  },
  {
   "cell_type": "markdown",
   "metadata": {},
   "source": [
    "Sort scores, the control score next to trial store(88) has similar trend to it."
   ]
  },
  {
   "cell_type": "code",
   "execution_count": 157,
   "metadata": {},
   "outputs": [
    {
     "name": "stdout",
     "output_type": "stream",
     "text": [
      "{141: -0.22, 135: -0.14, 266: -0.14, 235: -0.13, 239: -0.13, 258: -0.13, 264: -0.13, 90: -0.12, 52: -0.11, 197: -0.11, 2: -0.1, 8: -0.1, 74: -0.1, 87: -0.1, 98: -0.1, 151: -0.1, 215: -0.1, 263: -0.1, 214: -0.09, 42: -0.08, 16: -0.07, 256: -0.07, 272: -0.04, 146: -0.03, 185: -0.02, 189: -0.02, 224: -0.02, 73: -0.01, 267: -0.01, 143: -0.0, 255: 0.01, 34: 0.02, 54: 0.02, 169: 0.02, 186: 0.02, 96: 0.03, 126: 0.03, 68: 0.04, 127: 0.04, 209: 0.05, 29: 0.06, 111: 0.06, 115: 0.06, 120: 0.06, 173: 0.06, 48: 0.07, 82: 0.07, 192: 0.07, 244: 0.07, 12: 0.08, 22: 0.08, 23: 0.08, 110: 0.08, 139: 0.08, 175: 0.08, 205: 0.08, 249: 0.08, 9: 0.09, 37: 0.09, 176: 0.09, 227: 0.09, 66: 0.1, 89: 0.1, 133: 0.1, 19: 0.11, 51: 0.11, 158: 0.11, 220: 0.11, 17: 0.12, 47: 0.12, 118: 0.12, 183: 0.12, 251: 0.12, 50: 0.13, 108: 0.13, 148: 0.13, 174: 0.13, 242: 0.13, 246: 0.13, 25: 0.14, 196: 0.14, 247: 0.14, 61: 0.15, 65: 0.15, 124: 0.15, 156: 0.15, 164: 0.15, 208: 0.15, 243: 0.15, 20: 0.16, 45: 0.16, 53: 0.16, 67: 0.16, 99: 0.16, 132: 0.16, 140: 0.16, 149: 0.16, 180: 0.16, 195: 0.16, 262: 0.16, 15: 0.17, 107: 0.17, 121: 0.17, 147: 0.17, 38: 0.18, 100: 0.18, 131: 0.18, 144: 0.18, 198: 0.18, 234: 0.18, 260: 0.18, 35: 0.19, 41: 0.19, 154: 0.19, 163: 0.19, 270: 0.19, 104: 0.2, 268: 0.2, 18: 0.21, 49: 0.21, 103: 0.21, 150: 0.21, 236: 0.21, 241: 0.21, 84: 0.22, 116: 0.22, 83: 0.23, 142: 0.23, 160: 0.23, 170: 0.23, 171: 0.23, 216: 0.23, 230: 0.23, 21: 0.24, 43: 0.24, 46: 0.24, 112: 0.24, 129: 0.24, 172: 0.24, 219: 0.24, 221: 0.24, 6: 0.25, 64: 0.25, 161: 0.25, 184: 0.25, 254: 0.25, 265: 0.25, 24: 0.26, 77: 0.26, 136: 0.26, 168: 0.26, 202: 0.26, 271: 0.26, 233: 0.27, 4: 0.28, 33: 0.28, 188: 0.28, 27: 0.29, 59: 0.29, 165: 0.29, 210: 0.29, 245: 0.29, 194: 0.3, 199: 0.3, 55: 0.31, 102: 0.31, 159: 0.31, 261: 0.31, 212: 0.32, 63: 0.33, 228: 0.33, 30: 0.34, 80: 0.34, 122: 0.34, 130: 0.34, 166: 0.34, 231: 0.34, 253: 0.34, 269: 0.34, 167: 0.35, 191: 0.35, 200: 0.35, 204: 0.35, 138: 0.36, 10: 0.37, 70: 0.37, 71: 0.37, 153: 0.37, 232: 0.37, 240: 0.37, 248: 0.37, 14: 0.38, 145: 0.38, 187: 0.38, 207: 0.38, 28: 0.39, 62: 0.4, 3: 0.41, 5: 0.41, 58: 0.41, 105: 0.41, 109: 0.41, 137: 0.41, 179: 0.41, 56: 0.42, 97: 0.42, 152: 0.42, 182: 0.42, 259: 0.42, 78: 0.43, 93: 0.43, 162: 0.43, 250: 0.43, 1: 0.44, 40: 0.44, 60: 0.45, 134: 0.45, 57: 0.46, 72: 0.46, 75: 0.46, 181: 0.46, 81: 0.47, 119: 0.48, 155: 0.48, 222: 0.48, 226: 0.48, 86: 0.49, 128: 0.49, 229: 0.49, 13: 0.5, 39: 0.5, 114: 0.5, 203: 0.5, 32: 0.51, 26: 0.52, 157: 0.52, 213: 0.52, 217: 0.53, 125: 0.54, 94: 0.55, 101: 0.55, 190: 0.55, 223: 0.55, 95: 0.56, 113: 0.57, 36: 0.58, 238: 0.58, 257: 0.6, 69: 0.61, 106: 0.61, 79: 0.63, 91: 0.63, 201: 0.64, 225: 0.64, 178: 0.65, 7: 0.67, 123: 0.7, 237: 0.75, 88: 1.0}\n"
     ]
    }
   ],
   "source": [
    "avg_control_score_88 = {k: v for k, v in sorted(avg_control_score_88.items(), key=lambda item: item[1])}\n",
    "print(avg_control_score_88)"
   ]
  },
  {
   "cell_type": "markdown",
   "metadata": {},
   "source": [
    "I find control store 237 as the most similar to 88 trial store."
   ]
  },
  {
   "cell_type": "markdown",
   "metadata": {},
   "source": [
    "Visualize total sales of different store type(Pre trial)."
   ]
  },
  {
   "cell_type": "code",
   "execution_count": 158,
   "metadata": {},
   "outputs": [],
   "source": [
    "measure_over_month_sales = measure_over_month[['STORE_NBR','MONTH_YEAR','TOT_SALES']]"
   ]
  },
  {
   "cell_type": "code",
   "execution_count": 159,
   "metadata": {},
   "outputs": [],
   "source": [
    "trial_store = 88\n",
    "control_store = 237\n",
    "pastSalesTrial = measure_over_month_sales[['MONTH_YEAR','TOT_SALES']][(measure_over_month_sales['STORE_NBR'] == trial_store) & \n",
    "                                          (measure_over_month_sales['MONTH_YEAR'] < '2019-02')].reset_index(drop=True)\n",
    "pastSalesControl = measure_over_month_sales[['MONTH_YEAR','TOT_SALES']][(measure_over_month_sales['STORE_NBR'] == control_store) & \n",
    "                                            (measure_over_month_sales['MONTH_YEAR'] < '2019-02')].reset_index(drop=True)"
   ]
  },
  {
   "cell_type": "code",
   "execution_count": 160,
   "metadata": {},
   "outputs": [
    {
     "data": {
      "text/html": [
       "<div>\n",
       "<style scoped>\n",
       "    .dataframe tbody tr th:only-of-type {\n",
       "        vertical-align: middle;\n",
       "    }\n",
       "\n",
       "    .dataframe tbody tr th {\n",
       "        vertical-align: top;\n",
       "    }\n",
       "\n",
       "    .dataframe thead th {\n",
       "        text-align: right;\n",
       "    }\n",
       "</style>\n",
       "<table border=\"1\" class=\"dataframe\">\n",
       "  <thead>\n",
       "    <tr style=\"text-align: right;\">\n",
       "      <th></th>\n",
       "      <th>MONTH_YEAR</th>\n",
       "      <th>AVG_SALES</th>\n",
       "    </tr>\n",
       "  </thead>\n",
       "  <tbody>\n",
       "    <tr>\n",
       "      <th>0</th>\n",
       "      <td>2018-07</td>\n",
       "      <td>579.805725</td>\n",
       "    </tr>\n",
       "    <tr>\n",
       "      <th>1</th>\n",
       "      <td>2018-08</td>\n",
       "      <td>555.011303</td>\n",
       "    </tr>\n",
       "    <tr>\n",
       "      <th>2</th>\n",
       "      <td>2018-09</td>\n",
       "      <td>562.772137</td>\n",
       "    </tr>\n",
       "    <tr>\n",
       "      <th>3</th>\n",
       "      <td>2018-10</td>\n",
       "      <td>573.749810</td>\n",
       "    </tr>\n",
       "    <tr>\n",
       "      <th>4</th>\n",
       "      <td>2018-11</td>\n",
       "      <td>561.000382</td>\n",
       "    </tr>\n",
       "    <tr>\n",
       "      <th>5</th>\n",
       "      <td>2018-12</td>\n",
       "      <td>590.092720</td>\n",
       "    </tr>\n",
       "    <tr>\n",
       "      <th>6</th>\n",
       "      <td>2019-01</td>\n",
       "      <td>571.880077</td>\n",
       "    </tr>\n",
       "  </tbody>\n",
       "</table>\n",
       "</div>"
      ],
      "text/plain": [
       "  MONTH_YEAR   AVG_SALES\n",
       "0    2018-07  579.805725\n",
       "1    2018-08  555.011303\n",
       "2    2018-09  562.772137\n",
       "3    2018-10  573.749810\n",
       "4    2018-11  561.000382\n",
       "5    2018-12  590.092720\n",
       "6    2019-01  571.880077"
      ]
     },
     "execution_count": 160,
     "metadata": {},
     "output_type": "execute_result"
    }
   ],
   "source": [
    "months = ['2018-07','2018-08','2018-09','2018-10','2018-11','2018-12','2019-01']\n",
    "other_stores = np.setdiff1d(measure_over_month_sales['STORE_NBR'].unique(),[trial_store,control_store])\n",
    "pastSalesOthers = pd.DataFrame({'MONTH_YEAR':measure_over_month_sales['MONTH_YEAR'].unique()[0:7]})\n",
    "avg_sales = []\n",
    "\n",
    "for m in months:\n",
    "    measure = measure_over_month_sales['TOT_SALES'][(measure_over_month_sales['STORE_NBR'].isin(other_stores)) & \n",
    "                             (measure_over_month_sales['MONTH_YEAR'] == m)]\n",
    "    avg_sales.append(measure.mean())\n",
    "    \n",
    "pastSalesOthers['AVG_SALES'] = avg_sales\n",
    "pastSalesOthers"
   ]
  },
  {
   "cell_type": "code",
   "execution_count": 161,
   "metadata": {},
   "outputs": [
    {
     "data": {
      "image/png": "[encoded data removed]",
      "text/plain": [
       "<Figure size 432x288 with 1 Axes>"
      ]
     },
     "metadata": {
      "needs_background": "light"
     },
     "output_type": "display_data"
    }
   ],
   "source": [
    "fig = plt.figure()\n",
    "ax1 = fig.add_subplot(111)\n",
    "\n",
    "ax1.scatter(pastSalesOthers['MONTH_YEAR'], pastSalesOthers['AVG_SALES'], s=10, c='b', marker=\"s\", label='Other Stores')\n",
    "ax1.scatter(pastSalesTrial['MONTH_YEAR'],pastSalesTrial['TOT_SALES'], s=10, c='r', marker=\"o\", label='Trial Store(88)')\n",
    "ax1.scatter(pastSalesControl['MONTH_YEAR'],pastSalesControl['TOT_SALES'], s=10, c='g', marker=\"o\", label='Control Store(237) ')\n",
    "plt.legend(loc='upper left')\n",
    "plt.show()"
   ]
  },
  {
   "cell_type": "markdown",
   "metadata": {},
   "source": [
    "Visualize number of customers per month(pre trial)"
   ]
  },
  {
   "cell_type": "code",
   "execution_count": 162,
   "metadata": {},
   "outputs": [],
   "source": [
    "measure_over_month_customers = measure_over_month[['STORE_NBR','MONTH_YEAR','TOT_CUSTOMERS']]"
   ]
  },
  {
   "cell_type": "code",
   "execution_count": 163,
   "metadata": {},
   "outputs": [],
   "source": [
    "trial_store = 88\n",
    "control_store = 237\n",
    "pastCustomersTrial = measure_over_month_customers[['MONTH_YEAR','TOT_CUSTOMERS']][(measure_over_month_customers['STORE_NBR'] == trial_store) & \n",
    "                                          (measure_over_month_customers['MONTH_YEAR'] < '2019-02')].reset_index(drop=True)\n",
    "pastCustomersControl = measure_over_month_customers[['MONTH_YEAR','TOT_CUSTOMERS']][(measure_over_month_customers['STORE_NBR'] == control_store) & \n",
    "                                            (measure_over_month_customers['MONTH_YEAR'] < '2019-02')].reset_index(drop=True)"
   ]
  },
  {
   "cell_type": "code",
   "execution_count": 164,
   "metadata": {},
   "outputs": [
    {
     "data": {
      "text/html": [
       "<div>\n",
       "<style scoped>\n",
       "    .dataframe tbody tr th:only-of-type {\n",
       "        vertical-align: middle;\n",
       "    }\n",
       "\n",
       "    .dataframe tbody tr th {\n",
       "        vertical-align: top;\n",
       "    }\n",
       "\n",
       "    .dataframe thead th {\n",
       "        text-align: right;\n",
       "    }\n",
       "</style>\n",
       "<table border=\"1\" class=\"dataframe\">\n",
       "  <thead>\n",
       "    <tr style=\"text-align: right;\">\n",
       "      <th></th>\n",
       "      <th>MONTH_YEAR</th>\n",
       "      <th>AVG_CUSTOMERS</th>\n",
       "    </tr>\n",
       "  </thead>\n",
       "  <tbody>\n",
       "    <tr>\n",
       "      <th>0</th>\n",
       "      <td>2018-07</td>\n",
       "      <td>66.610687</td>\n",
       "    </tr>\n",
       "    <tr>\n",
       "      <th>1</th>\n",
       "      <td>2018-08</td>\n",
       "      <td>66.605364</td>\n",
       "    </tr>\n",
       "    <tr>\n",
       "      <th>2</th>\n",
       "      <td>2018-09</td>\n",
       "      <td>64.790076</td>\n",
       "    </tr>\n",
       "    <tr>\n",
       "      <th>3</th>\n",
       "      <td>2018-10</td>\n",
       "      <td>65.771863</td>\n",
       "    </tr>\n",
       "    <tr>\n",
       "      <th>4</th>\n",
       "      <td>2018-11</td>\n",
       "      <td>64.885496</td>\n",
       "    </tr>\n",
       "    <tr>\n",
       "      <th>5</th>\n",
       "      <td>2018-12</td>\n",
       "      <td>67.766284</td>\n",
       "    </tr>\n",
       "    <tr>\n",
       "      <th>6</th>\n",
       "      <td>2019-01</td>\n",
       "      <td>65.812261</td>\n",
       "    </tr>\n",
       "  </tbody>\n",
       "</table>\n",
       "</div>"
      ],
      "text/plain": [
       "  MONTH_YEAR  AVG_CUSTOMERS\n",
       "0    2018-07      66.610687\n",
       "1    2018-08      66.605364\n",
       "2    2018-09      64.790076\n",
       "3    2018-10      65.771863\n",
       "4    2018-11      64.885496\n",
       "5    2018-12      67.766284\n",
       "6    2019-01      65.812261"
      ]
     },
     "execution_count": 164,
     "metadata": {},
     "output_type": "execute_result"
    }
   ],
   "source": [
    "months = ['2018-07','2018-08','2018-09','2018-10','2018-11','2018-12','2019-01']\n",
    "other_stores = np.setdiff1d(measure_over_month_customers['STORE_NBR'].unique(),[trial_store,control_store])\n",
    "pastCustomersOthers = pd.DataFrame({'MONTH_YEAR':measure_over_month_customers['MONTH_YEAR'].unique()[0:7]})\n",
    "avg_customers = []\n",
    "\n",
    "for m in months:\n",
    "    measure = measure_over_month_customers['TOT_CUSTOMERS'][(measure_over_month_customers['STORE_NBR'].isin(other_stores)) & \n",
    "                             (measure_over_month_customers['MONTH_YEAR'] == m)]\n",
    "    avg_customers.append(measure.mean())\n",
    "    \n",
    "pastCustomersOthers['AVG_CUSTOMERS'] = avg_customers\n",
    "pastCustomersOthers"
   ]
  },
  {
   "cell_type": "code",
   "execution_count": 165,
   "metadata": {
    "scrolled": true
   },
   "outputs": [
    {
     "data": {
      "image/png": "[encoded data removed]",
      "text/plain": [
       "<Figure size 432x288 with 1 Axes>"
      ]
     },
     "metadata": {
      "needs_background": "light"
     },
     "output_type": "display_data"
    }
   ],
   "source": [
    "fig = plt.figure()\n",
    "ax1 = fig.add_subplot(111)\n",
    "\n",
    "ax1.scatter(pastCustomersOthers['MONTH_YEAR'], pastCustomersOthers['AVG_CUSTOMERS'], s=10, c='b', marker=\"s\", label='Other Stores')\n",
    "ax1.scatter(pastCustomersTrial['MONTH_YEAR'],pastCustomersTrial['TOT_CUSTOMERS'], s=10, c='r', marker=\"o\", label='Trial Store(88)')\n",
    "ax1.scatter(pastCustomersControl['MONTH_YEAR'],pastCustomersControl['TOT_CUSTOMERS'], s=10, c='g', marker=\"o\", label='Control Store(237) ')\n",
    "plt.legend(loc='upper left')\n",
    "plt.show()"
   ]
  },
  {
   "cell_type": "markdown",
   "metadata": {},
   "source": [
    "Comparison of results in trial period."
   ]
  },
  {
   "cell_type": "code",
   "execution_count": 166,
   "metadata": {},
   "outputs": [
    {
     "data": {
      "text/plain": [
       "0.9907684714697539"
      ]
     },
     "execution_count": 166,
     "metadata": {},
     "output_type": "execute_result"
    }
   ],
   "source": [
    "scaling_factor = pastSalesTrial['TOT_SALES'].sum()/pastSalesControl['TOT_SALES'].sum()\n",
    "scaling_factor"
   ]
  },
  {
   "cell_type": "code",
   "execution_count": 168,
   "metadata": {},
   "outputs": [
    {
     "data": {
      "text/html": [
       "<div>\n",
       "<style scoped>\n",
       "    .dataframe tbody tr th:only-of-type {\n",
       "        vertical-align: middle;\n",
       "    }\n",
       "\n",
       "    .dataframe tbody tr th {\n",
       "        vertical-align: top;\n",
       "    }\n",
       "\n",
       "    .dataframe thead th {\n",
       "        text-align: right;\n",
       "    }\n",
       "</style>\n",
       "<table border=\"1\" class=\"dataframe\">\n",
       "  <thead>\n",
       "    <tr style=\"text-align: right;\">\n",
       "      <th></th>\n",
       "      <th>MONTH_YEAR</th>\n",
       "      <th>CONTROL_SALES</th>\n",
       "    </tr>\n",
       "  </thead>\n",
       "  <tbody>\n",
       "    <tr>\n",
       "      <th>0</th>\n",
       "      <td>2018-07</td>\n",
       "      <td>1374.394024</td>\n",
       "    </tr>\n",
       "    <tr>\n",
       "      <th>1</th>\n",
       "      <td>2018-08</td>\n",
       "      <td>1309.696842</td>\n",
       "    </tr>\n",
       "    <tr>\n",
       "      <th>2</th>\n",
       "      <td>2018-09</td>\n",
       "      <td>1239.253204</td>\n",
       "    </tr>\n",
       "    <tr>\n",
       "      <th>3</th>\n",
       "      <td>2018-10</td>\n",
       "      <td>1275.218100</td>\n",
       "    </tr>\n",
       "    <tr>\n",
       "      <th>4</th>\n",
       "      <td>2018-11</td>\n",
       "      <td>1303.851308</td>\n",
       "    </tr>\n",
       "    <tr>\n",
       "      <th>5</th>\n",
       "      <td>2018-12</td>\n",
       "      <td>1223.004601</td>\n",
       "    </tr>\n",
       "    <tr>\n",
       "      <th>6</th>\n",
       "      <td>2019-01</td>\n",
       "      <td>1107.381921</td>\n",
       "    </tr>\n",
       "    <tr>\n",
       "      <th>7</th>\n",
       "      <td>2019-02</td>\n",
       "      <td>1300.879003</td>\n",
       "    </tr>\n",
       "    <tr>\n",
       "      <th>8</th>\n",
       "      <td>2019-03</td>\n",
       "      <td>1166.728952</td>\n",
       "    </tr>\n",
       "    <tr>\n",
       "      <th>9</th>\n",
       "      <td>2019-04</td>\n",
       "      <td>1142.950509</td>\n",
       "    </tr>\n",
       "    <tr>\n",
       "      <th>10</th>\n",
       "      <td>2019-05</td>\n",
       "      <td>1117.487759</td>\n",
       "    </tr>\n",
       "    <tr>\n",
       "      <th>11</th>\n",
       "      <td>2019-06</td>\n",
       "      <td>1132.844670</td>\n",
       "    </tr>\n",
       "  </tbody>\n",
       "</table>\n",
       "</div>"
      ],
      "text/plain": [
       "   MONTH_YEAR  CONTROL_SALES\n",
       "0     2018-07    1374.394024\n",
       "1     2018-08    1309.696842\n",
       "2     2018-09    1239.253204\n",
       "3     2018-10    1275.218100\n",
       "4     2018-11    1303.851308\n",
       "5     2018-12    1223.004601\n",
       "6     2019-01    1107.381921\n",
       "7     2019-02    1300.879003\n",
       "8     2019-03    1166.728952\n",
       "9     2019-04    1142.950509\n",
       "10    2019-05    1117.487759\n",
       "11    2019-06    1132.844670"
      ]
     },
     "execution_count": 168,
     "metadata": {},
     "output_type": "execute_result"
    }
   ],
   "source": [
    "salesControl_237 = pd.DataFrame({'MONTH_YEAR':measure_over_month_sales['MONTH_YEAR'].unique()})\n",
    "salesControl_237['CONTROL_SALES'] = measure_over_month_sales[['TOT_SALES']][measure_over_month_sales['STORE_NBR'] == control_store].reset_index(drop=True) * scaling_factor\n",
    "salesControl_237"
   ]
  },
  {
   "cell_type": "code",
   "execution_count": 169,
   "metadata": {},
   "outputs": [
    {
     "data": {
      "text/html": [
       "<div>\n",
       "<style scoped>\n",
       "    .dataframe tbody tr th:only-of-type {\n",
       "        vertical-align: middle;\n",
       "    }\n",
       "\n",
       "    .dataframe tbody tr th {\n",
       "        vertical-align: top;\n",
       "    }\n",
       "\n",
       "    .dataframe thead th {\n",
       "        text-align: right;\n",
       "    }\n",
       "</style>\n",
       "<table border=\"1\" class=\"dataframe\">\n",
       "  <thead>\n",
       "    <tr style=\"text-align: right;\">\n",
       "      <th></th>\n",
       "      <th>MONTH_YEAR</th>\n",
       "      <th>%Diff</th>\n",
       "    </tr>\n",
       "  </thead>\n",
       "  <tbody>\n",
       "    <tr>\n",
       "      <th>0</th>\n",
       "      <td>2018-07</td>\n",
       "      <td>0.113646</td>\n",
       "    </tr>\n",
       "    <tr>\n",
       "      <th>1</th>\n",
       "      <td>2018-08</td>\n",
       "      <td>0.051536</td>\n",
       "    </tr>\n",
       "    <tr>\n",
       "      <th>2</th>\n",
       "      <td>2018-09</td>\n",
       "      <td>0.098888</td>\n",
       "    </tr>\n",
       "    <tr>\n",
       "      <th>3</th>\n",
       "      <td>2018-10</td>\n",
       "      <td>0.003465</td>\n",
       "    </tr>\n",
       "    <tr>\n",
       "      <th>4</th>\n",
       "      <td>2018-11</td>\n",
       "      <td>0.005790</td>\n",
       "    </tr>\n",
       "    <tr>\n",
       "      <th>5</th>\n",
       "      <td>2018-12</td>\n",
       "      <td>0.008180</td>\n",
       "    </tr>\n",
       "    <tr>\n",
       "      <th>6</th>\n",
       "      <td>2019-01</td>\n",
       "      <td>0.097544</td>\n",
       "    </tr>\n",
       "    <tr>\n",
       "      <th>7</th>\n",
       "      <td>2019-02</td>\n",
       "      <td>0.029765</td>\n",
       "    </tr>\n",
       "    <tr>\n",
       "      <th>8</th>\n",
       "      <td>2019-03</td>\n",
       "      <td>0.257361</td>\n",
       "    </tr>\n",
       "    <tr>\n",
       "      <th>9</th>\n",
       "      <td>2019-04</td>\n",
       "      <td>0.152281</td>\n",
       "    </tr>\n",
       "    <tr>\n",
       "      <th>10</th>\n",
       "      <td>2019-05</td>\n",
       "      <td>0.106813</td>\n",
       "    </tr>\n",
       "    <tr>\n",
       "      <th>11</th>\n",
       "      <td>2019-06</td>\n",
       "      <td>0.105712</td>\n",
       "    </tr>\n",
       "  </tbody>\n",
       "</table>\n",
       "</div>"
      ],
      "text/plain": [
       "   MONTH_YEAR     %Diff\n",
       "0     2018-07  0.113646\n",
       "1     2018-08  0.051536\n",
       "2     2018-09  0.098888\n",
       "3     2018-10  0.003465\n",
       "4     2018-11  0.005790\n",
       "5     2018-12  0.008180\n",
       "6     2019-01  0.097544\n",
       "7     2019-02  0.029765\n",
       "8     2019-03  0.257361\n",
       "9     2019-04  0.152281\n",
       "10    2019-05  0.106813\n",
       "11    2019-06  0.105712"
      ]
     },
     "execution_count": 169,
     "metadata": {},
     "output_type": "execute_result"
    }
   ],
   "source": [
    "percentageDiff_88_237 = pd.DataFrame({'MONTH_YEAR':measure_over_month_sales['MONTH_YEAR'].unique()})\n",
    "salesTrial_88 = measure_over_month_sales[['TOT_SALES']][(measure_over_month_sales['STORE_NBR'] == trial_store)].reset_index(drop=True)\n",
    "percentageDiff_88_237['%Diff'] = abs(salesControl_237['CONTROL_SALES'] - salesTrial_88['TOT_SALES'])/salesControl_237['CONTROL_SALES']\n",
    "percentageDiff_88_237"
   ]
  },
  {
   "cell_type": "markdown",
   "metadata": {},
   "source": [
    " As our null hypothesis is that the trial period is the same as the pre-trial\n",
    "period, let's take the standard deviation based on the scaled percentage difference\n",
    "in the pre-trial period "
   ]
  },
  {
   "cell_type": "code",
   "execution_count": 170,
   "metadata": {},
   "outputs": [
    {
     "data": {
      "text/plain": [
       "0.04907815778187752"
      ]
     },
     "execution_count": 170,
     "metadata": {},
     "output_type": "execute_result"
    }
   ],
   "source": [
    "standardDev_88_237 = percentageDiff_88_237['%Diff'][percentageDiff_88_237['MONTH_YEAR'] < '2019-02'].std()\n",
    "standardDev_88_237"
   ]
  },
  {
   "cell_type": "code",
   "execution_count": 171,
   "metadata": {},
   "outputs": [],
   "source": [
    "months = ['2019-02','2019-03','2019-04']\n",
    "stores_TValues_88_237 = pd.DataFrame({'TRANSACTION_MONTH':months})\n",
    "tvalues = []\n",
    "for m in months:\n",
    "    tvalues.append((percentageDiff_88_237['%Diff'][percentageDiff_88_237['MONTH_YEAR'] == m].values[0] - 0)/standardDev_88_237)\n",
    "stores_TValues_88_237['TVALUE'] = tvalues"
   ]
  },
  {
   "cell_type": "code",
   "execution_count": 172,
   "metadata": {
    "scrolled": true
   },
   "outputs": [
    {
     "data": {
      "text/html": [
       "<div>\n",
       "<style scoped>\n",
       "    .dataframe tbody tr th:only-of-type {\n",
       "        vertical-align: middle;\n",
       "    }\n",
       "\n",
       "    .dataframe tbody tr th {\n",
       "        vertical-align: top;\n",
       "    }\n",
       "\n",
       "    .dataframe thead th {\n",
       "        text-align: right;\n",
       "    }\n",
       "</style>\n",
       "<table border=\"1\" class=\"dataframe\">\n",
       "  <thead>\n",
       "    <tr style=\"text-align: right;\">\n",
       "      <th></th>\n",
       "      <th>TRANSACTION_MONTH</th>\n",
       "      <th>TVALUE</th>\n",
       "    </tr>\n",
       "  </thead>\n",
       "  <tbody>\n",
       "    <tr>\n",
       "      <th>0</th>\n",
       "      <td>2019-02</td>\n",
       "      <td>0.606487</td>\n",
       "    </tr>\n",
       "    <tr>\n",
       "      <th>1</th>\n",
       "      <td>2019-03</td>\n",
       "      <td>5.243910</td>\n",
       "    </tr>\n",
       "    <tr>\n",
       "      <th>2</th>\n",
       "      <td>2019-04</td>\n",
       "      <td>3.102824</td>\n",
       "    </tr>\n",
       "  </tbody>\n",
       "</table>\n",
       "</div>"
      ],
      "text/plain": [
       "  TRANSACTION_MONTH    TVALUE\n",
       "0           2019-02  0.606487\n",
       "1           2019-03  5.243910\n",
       "2           2019-04  3.102824"
      ]
     },
     "execution_count": 172,
     "metadata": {},
     "output_type": "execute_result"
    }
   ],
   "source": [
    "stores_TValues_88_237.head()"
   ]
  },
  {
   "cell_type": "markdown",
   "metadata": {},
   "source": [
    "Sales:"
   ]
  },
  {
   "cell_type": "code",
   "execution_count": 204,
   "metadata": {},
   "outputs": [],
   "source": [
    "trial_store = 88\n",
    "control_store = 237\n",
    "allSalesTrial = measure_over_month_sales[['MONTH_YEAR','TOT_SALES']][(measure_over_month_sales['STORE_NBR'] == trial_store)].reset_index(drop=True)\n",
    "allSalesControl = measure_over_month_sales[['MONTH_YEAR','TOT_SALES']][(measure_over_month_sales['STORE_NBR'] == control_store)].reset_index(drop=True)"
   ]
  },
  {
   "cell_type": "code",
   "execution_count": 205,
   "metadata": {},
   "outputs": [],
   "source": [
    "allSalesControl_95['MONTH_YEAR'] = allSalesControl[['MONTH_YEAR']]\n",
    "allSalesControl_05 = allSalesControl[['MONTH_YEAR']]\n",
    "\n",
    "allSalesControl_95['TOT_SALES'] = allSalesControl[['TOT_SALES']]*(1 + standardDev_88_237 * 2)\n",
    "allSalesControl_05['TOT_SALES'] = allSalesControl[['TOT_SALES']]*(1 - standardDev_88_237 * 2)"
   ]
  },
  {
   "cell_type": "code",
   "execution_count": 206,
   "metadata": {
    "scrolled": true
   },
   "outputs": [
    {
     "data": {
      "image/png": "[encoded data removed]",
      "text/plain": [
       "<Figure size 864x720 with 1 Axes>"
      ]
     },
     "metadata": {
      "needs_background": "light"
     },
     "output_type": "display_data"
    }
   ],
   "source": [
    "fig = plt.figure(figsize=(12,10))\n",
    "ax1 = fig.add_subplot(111)\n",
    "\n",
    "ax1.plot(allSalesTrial['MONTH_YEAR'], allSalesTrial['TOT_SALES'], c='b', label='Trial Store(88)')\n",
    "ax1.plot(allSalesControl['MONTH_YEAR'],allSalesControl['TOT_SALES'], c='r', label='Control Store(237)')\n",
    "ax1.plot(allSalesControl_05['MONTH_YEAR'],allSalesControl_05['TOT_SALES'], c='g', label='Control Store(237) 5% ')\n",
    "ax1.plot(allSalesControl_95['MONTH_YEAR'],allSalesControl_95['TOT_SALES'], c='purple', label='Control Store(237) 95% ')\n",
    "plt.legend(loc='upper left')\n",
    "plt.show()"
   ]
  },
  {
   "cell_type": "markdown",
   "metadata": {},
   "source": [
    "Customers:"
   ]
  },
  {
   "cell_type": "code",
   "execution_count": 207,
   "metadata": {},
   "outputs": [],
   "source": [
    "trial_store = 88\n",
    "control_store = 237\n",
    "allCustomersTrial = measure_over_month_customers[['MONTH_YEAR','TOT_CUSTOMERS']][(measure_over_month_customers['STORE_NBR'] == trial_store)].reset_index(drop=True)\n",
    "allCustomersControl = measure_over_month_customers[['MONTH_YEAR','TOT_CUSTOMERS']][(measure_over_month_customers['STORE_NBR'] == control_store)].reset_index(drop=True)"
   ]
  },
  {
   "cell_type": "code",
   "execution_count": 208,
   "metadata": {},
   "outputs": [],
   "source": [
    "allCustomersControl_95 = allCustomersControl[['MONTH_YEAR']]\n",
    "allCustomersControl_05 = allCustomersControl[['MONTH_YEAR']]\n",
    "\n",
    "allCustomersControl_95['TOT_CUSTOMERS'] = allCustomersControl[['TOT_CUSTOMERS']]*(1 + standardDev_88_237 * 2)\n",
    "allCustomersControl_05['TOT_CUSTOMERS'] = allCustomersControl[['TOT_CUSTOMERS']]*(1 - standardDev_88_237 * 2)"
   ]
  },
  {
   "cell_type": "code",
   "execution_count": 209,
   "metadata": {
    "scrolled": false
   },
   "outputs": [
    {
     "data": {
      "image/png": "[encoded data removed]",
      "text/plain": [
       "<Figure size 864x720 with 1 Axes>"
      ]
     },
     "metadata": {
      "needs_background": "light"
     },
     "output_type": "display_data"
    }
   ],
   "source": [
    "fig = plt.figure(figsize=(12,10))\n",
    "ax1 = fig.add_subplot(111)\n",
    "\n",
    "ax1.plot(allCustomersTrial['MONTH_YEAR'], allCustomersTrial['TOT_CUSTOMERS'], c='b', label='Trial Store(88)')\n",
    "ax1.plot(allCustomersControl['MONTH_YEAR'],allCustomersControl['TOT_CUSTOMERS'], c='r', label='Control Store(237)')\n",
    "ax1.plot(allCustomersControl_05['MONTH_YEAR'],allCustomersControl_05['TOT_CUSTOMERS'], c='g', label='Control Store(237) 5% ')\n",
    "ax1.plot(allCustomersControl_95['MONTH_YEAR'],allCustomersControl_95['TOT_CUSTOMERS'], c='purple', label='Control Store(237) 95% ')\n",
    "plt.legend(loc='upper left')\n",
    "plt.show()"
   ]
  },
  {
   "cell_type": "markdown",
   "metadata": {},
   "source": [
    "Both Number of customers and the sales in both control and trial store are quite similar."
   ]
  }
 ],
 "metadata": {
  "kernelspec": {
   "display_name": "Python 3",
   "language": "python",
   "name": "python3"
  },
  "language_info": {
   "codemirror_mode": {
    "name": "ipython",
    "version": 3
   },
   "file_extension": ".py",
   "mimetype": "text/x-python",
   "name": "python",
   "nbconvert_exporter": "python",
   "pygments_lexer": "ipython3",
   "version": "3.7.6"
  }
 },
 "nbformat": 4,
 "nbformat_minor": 4
}
